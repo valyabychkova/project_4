{
 "cells": [
  {
   "cell_type": "markdown",
   "id": "90f203d3",
   "metadata": {},
   "source": [
    "# Предсказание температуры стали"
   ]
  },
  {
   "cell_type": "markdown",
   "id": "978b0070",
   "metadata": {},
   "source": [
    "## Описание проекта"
   ]
  },
  {
   "cell_type": "markdown",
   "id": "a8174974",
   "metadata": {},
   "source": [
    "Чтобы оптимизировать производственные расходы, металлургический комбинат ООО «Так закаляем сталь» решил уменьшить потребление электроэнергии на этапе обработки стали. Нам предстоит построить модель, которая предскажет температуру стали.\n",
    "\n",
    "В нашем распоряжении есть данные о режимах нагрева и внесения легирующих добавок, объёмах продуваемого инертного газа, температуре стали на разных этапах для более чем 3000 процессов обработки стали."
   ]
  },
  {
   "cell_type": "markdown",
   "id": "1b4d7387",
   "metadata": {},
   "source": [
    "## План"
   ]
  },
  {
   "cell_type": "markdown",
   "id": "153ce265",
   "metadata": {},
   "source": [
    "- Этап 1. EDA, предобработка данных\n",
    "    - Обзор содержания таблиц\n",
    "    - Построение распределений\n",
    "    - Обработка пропусков, дубликатов и выбросов\n",
    "    - Поиск взаимосвязи величин (построение диаграммы рассеяния, подсчёт коэф. корреляции)\n",
    "    - Выбор признаков, подготовка и объединение таблиц для дальнейшей работы\n",
    "    \n",
    "    \n",
    "- Этап 2. Подготовка признаков\n",
    "    - Отделение целевого признака\n",
    "    - Разбиение на тестовую и тренировочную-валидационную выборки в соотношении 1:3\n",
    "    - Исследование признаков на мультиколлинеарность и исключение признаков с высокими значениями VIF\n",
    "    \n",
    "    \n",
    "- Этап 3. Подбор гиперпараметров с кросс-валидацией для следующих моделей машинного обучения\n",
    "    - Линейная регрессия\n",
    "    - Случайный лес\n",
    "    - CatBoost\n",
    "    - LightGBM\n",
    "    - XGBoost\n",
    "    \n",
    "    \n",
    "- Этап 4. Тестирование модели \n",
    "    - тестирование модели c наименьшей MAE\n",
    "    - сравнение выбранной модели с константной\n",
    "\n",
    "\n",
    "- Этап 5. Построение и анализ иерархии важности признаков\n",
    "\n",
    "\n",
    "- Этап 6. Написание отчёта по проекту"
   ]
  },
  {
   "cell_type": "markdown",
   "id": "e850916d",
   "metadata": {},
   "source": [
    "## Этап 1. Исследовательский анализ и предобработка данных"
   ]
  },
  {
   "cell_type": "markdown",
   "id": "78965246",
   "metadata": {},
   "source": [
    "На этом этапе мы \n",
    "- посмотрим содержание всех доступных таблиц, \n",
    "- построим распределения представленных величин,\n",
    "- поработаем с пропусками, дубликатами и выбросами, если таковые встретятся,\n",
    "- попробуем найти закономерности в данных и взамосвязь величин,\n",
    "- подготовим датафрейм для следующего этапа работы."
   ]
  },
  {
   "cell_type": "markdown",
   "id": "41afa22a",
   "metadata": {},
   "source": [
    "NB: Для удобства уже в этой части кода импортируем и установим абсолютно все необходимые для работы библиотеки."
   ]
  },
  {
   "cell_type": "code",
   "execution_count": 1,
   "id": "c270e83f",
   "metadata": {},
   "outputs": [],
   "source": [
    "# импортируем библиотеки\n",
    "import pandas as pd\n",
    "import numpy as np\n",
    "from matplotlib import pyplot as plt\n",
    "from sklearn.model_selection import train_test_split\n",
    "import statsmodels.api as sm\n",
    "from statsmodels.stats.outliers_influence import variance_inflation_factor\n",
    "from sklearn.model_selection import RandomizedSearchCV\n",
    "from sklearn.preprocessing import StandardScaler\n",
    "from sklearn.linear_model import LinearRegression\n",
    "from sklearn.ensemble import RandomForestRegressor\n",
    "from catboost import CatBoostRegressor\n",
    "import lightgbm as ltb\n",
    "import xgboost as xgb\n",
    "from sklearn.metrics import mean_absolute_error\n",
    "import joblib\n",
    "from joblib import dump\n",
    "from sklearn.dummy import DummyRegressor\n",
    "import warnings"
   ]
  },
  {
   "cell_type": "markdown",
   "id": "9e8360c6",
   "metadata": {},
   "source": [
    "Теперь приступим непосредственно к EDA."
   ]
  },
  {
   "cell_type": "code",
   "execution_count": 2,
   "id": "918f02bf",
   "metadata": {},
   "outputs": [],
   "source": [
    "# импортируем наши датасеты через try-except с компьютера и с сервера\n",
    "try:\n",
    "    data_arc = pd.read_csv('data_arc.csv')\n",
    "    data_bulk = pd.read_csv('data_bulk.csv')\n",
    "    data_bulk_time = pd.read_csv('data_bulk_time.csv')\n",
    "    data_gas = pd.read_csv('data_gas.csv')\n",
    "    data_temp = pd.read_csv('data_temp.csv')\n",
    "    data_wire = pd.read_csv('data_wire.csv')\n",
    "    data_wire_time = pd.read_csv('data_wire_time.csv')\n",
    "except:\n",
    "    data_arc = pd.read_csv('/datasets/final_steel/data_arc.csv')\n",
    "    data_bulk = pd.read_csv('/datasets/final_steel/data_bulk.csv')\n",
    "    data_bulk_time = pd.read_csv('/datasets/final_steel/data_bulk_time.csv')\n",
    "    data_gas = pd.read_csv('/datasets/final_steel/data_gas.csv')\n",
    "    data_temp = pd.read_csv('/datasets/final_steel/data_temp.csv')\n",
    "    data_wire = pd.read_csv('/datasets/final_steel/data_wire.csv')\n",
    "    data_wire_time = pd.read_csv('/datasets/final_steel/data_wire_time.csv')"
   ]
  },
  {
   "cell_type": "markdown",
   "id": "10e86599",
   "metadata": {},
   "source": [
    "### Таблица с данными об электродах"
   ]
  },
  {
   "cell_type": "markdown",
   "id": "4b734e2a",
   "metadata": {},
   "source": [
    "Сперва создадим две функции, одна будет выводить описание данных и первые строки таблиц, а другая - строить диаграммы распределения, находить процент пропусков. "
   ]
  },
  {
   "cell_type": "code",
   "execution_count": 3,
   "id": "f754f615",
   "metadata": {},
   "outputs": [],
   "source": [
    "# функция, которая будет выводить информацию о таблице и первые строки\n",
    "def info_head(df):\n",
    "    print(df.head())\n",
    "    print(df.info())\n",
    "    print(df.describe())"
   ]
  },
  {
   "cell_type": "code",
   "execution_count": 4,
   "id": "d4d59672",
   "metadata": {},
   "outputs": [],
   "source": [
    "# функция, которая будет строить диаграммы распределения, находить процент пропусков\n",
    "def hist_maker(column, df, name):\n",
    "    df[column].hist(bins=100, grid=False)\n",
    "    plt.xlabel(column) \n",
    "    plt.ylabel('Число')\n",
    "    plt.title(name) \n",
    "    plt.show()\n",
    "    print('Процент пропусков:', round(100*df[column].isna().sum()/len(df), 2), '%')"
   ]
  },
  {
   "cell_type": "markdown",
   "id": "dceee90d",
   "metadata": {},
   "source": [
    "Посмотрим на датафрейм с данными об электродах."
   ]
  },
  {
   "cell_type": "code",
   "execution_count": 5,
   "id": "df1bebb9",
   "metadata": {},
   "outputs": [
    {
     "name": "stdout",
     "output_type": "stream",
     "text": [
      "   key Начало нагрева дугой  Конец нагрева дугой  Активная мощность  \\\n",
      "0    1  2019-05-03 11:02:14  2019-05-03 11:06:02           0.976059   \n",
      "1    1  2019-05-03 11:07:28  2019-05-03 11:10:33           0.805607   \n",
      "2    1  2019-05-03 11:11:44  2019-05-03 11:14:36           0.744363   \n",
      "3    1  2019-05-03 11:18:14  2019-05-03 11:24:19           1.659363   \n",
      "4    1  2019-05-03 11:26:09  2019-05-03 11:28:37           0.692755   \n",
      "\n",
      "   Реактивная мощность  \n",
      "0             0.687084  \n",
      "1             0.520285  \n",
      "2             0.498805  \n",
      "3             1.062669  \n",
      "4             0.414397  \n",
      "<class 'pandas.core.frame.DataFrame'>\n",
      "RangeIndex: 14876 entries, 0 to 14875\n",
      "Data columns (total 5 columns):\n",
      " #   Column                Non-Null Count  Dtype  \n",
      "---  ------                --------------  -----  \n",
      " 0   key                   14876 non-null  int64  \n",
      " 1   Начало нагрева дугой  14876 non-null  object \n",
      " 2   Конец нагрева дугой   14876 non-null  object \n",
      " 3   Активная мощность     14876 non-null  float64\n",
      " 4   Реактивная мощность   14876 non-null  float64\n",
      "dtypes: float64(2), int64(1), object(2)\n",
      "memory usage: 581.2+ KB\n",
      "None\n",
      "                key  Активная мощность  Реактивная мощность\n",
      "count  14876.000000       14876.000000         14876.000000\n",
      "mean    1615.220422           0.670441             0.452592\n",
      "std      934.571502           0.408159             5.878702\n",
      "min        1.000000           0.030002          -715.504924\n",
      "25%      806.000000           0.395297             0.290991\n",
      "50%     1617.000000           0.555517             0.415962\n",
      "75%     2429.000000           0.857034             0.637371\n",
      "max     3241.000000           3.731596             2.676388\n"
     ]
    }
   ],
   "source": [
    "info_head(data_arc) # применяем info_head к датафрейму data_arc"
   ]
  },
  {
   "cell_type": "code",
   "execution_count": 6,
   "id": "f1558138",
   "metadata": {},
   "outputs": [
    {
     "name": "stdout",
     "output_type": "stream",
     "text": [
      "Число уникальных процессов: 3214\n"
     ]
    }
   ],
   "source": [
    "# выодим число уникальных процессов в data_arc\n",
    "print('Число уникальных процессов:', data_arc['key'].nunique())"
   ]
  },
  {
   "cell_type": "code",
   "execution_count": 7,
   "id": "d4e0bf4c",
   "metadata": {},
   "outputs": [
    {
     "name": "stdout",
     "output_type": "stream",
     "text": [
      "Число дубликатов: 0\n"
     ]
    }
   ],
   "source": [
    "# выводим число дубликатов\n",
    "print('Число дубликатов:', data_arc.duplicated().sum())"
   ]
  },
  {
   "cell_type": "markdown",
   "id": "305e8041",
   "metadata": {},
   "source": [
    "Как мы видим, в таблице предтавленны данные о времени, активной и реактивной мощностях за цикл нагрева, по несколько циклов за процесс. Всего в таблице есть данные о 3214 процессах.\n",
    "\n",
    "Мощность не может быть отрицательной, попробуем превратить отрицательные значения реактивной мощности в нули."
   ]
  },
  {
   "cell_type": "code",
   "execution_count": 8,
   "id": "323b822e",
   "metadata": {},
   "outputs": [
    {
     "name": "stdout",
     "output_type": "stream",
     "text": [
      "Число отрицательных значений в реактивной мощности: 1\n",
      "Число отрицательных значений в реактивной мощности после замены на нули: 0\n"
     ]
    }
   ],
   "source": [
    "# сперва считаем, затем обнуляем отрицательные значения и снова считаем\n",
    "print('Число отрицательных значений в реактивной мощности:', data_arc[data_arc['Реактивная мощность'] < 0]['Реактивная мощность'].count())\n",
    "data_arc.loc[data_arc.loc[:, 'Реактивная мощность'] < 0, 'Реактивная мощность'] = 0\n",
    "print('Число отрицательных значений в реактивной мощности после замены на нули:', data_arc[data_arc['Реактивная мощность'] < 0]['Реактивная мощность'].count())"
   ]
  },
  {
   "cell_type": "markdown",
   "id": "2c60533c",
   "metadata": {},
   "source": [
    "Теперь посмотрим на распределение активной и реактивной мощностей. К сожалению, нам неизвестны единицы, поэтому оставим название \"единицы\"."
   ]
  },
  {
   "cell_type": "code",
   "execution_count": 9,
   "id": "6db325a5",
   "metadata": {},
   "outputs": [
    {
     "data": {
      "image/png": "[encoded data removed]",
      "text/plain": [
       "<Figure size 432x288 with 1 Axes>"
      ]
     },
     "metadata": {
      "needs_background": "light"
     },
     "output_type": "display_data"
    },
    {
     "name": "stdout",
     "output_type": "stream",
     "text": [
      "Процент пропусков: 0.0 %\n"
     ]
    }
   ],
   "source": [
    "# строим распределение активной мощности\n",
    "hist_maker('Активная мощность', data_arc, 'Распределение активной мощности')"
   ]
  },
  {
   "cell_type": "code",
   "execution_count": 10,
   "id": "6087b1b2",
   "metadata": {},
   "outputs": [
    {
     "data": {
      "image/png": "[encoded data removed]",
      "text/plain": [
       "<Figure size 432x288 with 1 Axes>"
      ]
     },
     "metadata": {
      "needs_background": "light"
     },
     "output_type": "display_data"
    },
    {
     "name": "stdout",
     "output_type": "stream",
     "text": [
      "Процент пропусков: 0.0 %\n"
     ]
    }
   ],
   "source": [
    "# строим распределение реактивной мощности\n",
    "hist_maker('Реактивная мощность', data_arc, 'Распределение реактивной мощности')"
   ]
  },
  {
   "cell_type": "markdown",
   "id": "a31c1d45",
   "metadata": {},
   "source": [
    "Активная и реактивная мощности распределены похожим образом, однако вторая несколько сдвинута влево, что логично. Пользуясь данными о длительностях нагрева и активных мощностях, найдём энергию, передаваемую сплаву каждый раз.\n",
    "\n",
    "Реактивная мощность на состояние системы не влияет, поэтому не будет использовать эти данные в дальнейшем."
   ]
  },
  {
   "cell_type": "code",
   "execution_count": 11,
   "id": "61ecd7ed",
   "metadata": {},
   "outputs": [
    {
     "data": {
      "text/html": [
       "<div>\n",
       "<style scoped>\n",
       "    .dataframe tbody tr th:only-of-type {\n",
       "        vertical-align: middle;\n",
       "    }\n",
       "\n",
       "    .dataframe tbody tr th {\n",
       "        vertical-align: top;\n",
       "    }\n",
       "\n",
       "    .dataframe thead th {\n",
       "        text-align: right;\n",
       "    }\n",
       "</style>\n",
       "<table border=\"1\" class=\"dataframe\">\n",
       "  <thead>\n",
       "    <tr style=\"text-align: right;\">\n",
       "      <th></th>\n",
       "      <th>key</th>\n",
       "      <th>Начало нагрева дугой</th>\n",
       "      <th>Конец нагрева дугой</th>\n",
       "      <th>Активная мощность</th>\n",
       "      <th>Реактивная мощность</th>\n",
       "      <th>Время нагрева</th>\n",
       "      <th>Переданная энергия</th>\n",
       "    </tr>\n",
       "  </thead>\n",
       "  <tbody>\n",
       "    <tr>\n",
       "      <th>0</th>\n",
       "      <td>1</td>\n",
       "      <td>2019-05-03 11:02:14</td>\n",
       "      <td>2019-05-03 11:06:02</td>\n",
       "      <td>0.976059</td>\n",
       "      <td>0.687084</td>\n",
       "      <td>228.0</td>\n",
       "      <td>222.541395</td>\n",
       "    </tr>\n",
       "    <tr>\n",
       "      <th>1</th>\n",
       "      <td>1</td>\n",
       "      <td>2019-05-03 11:07:28</td>\n",
       "      <td>2019-05-03 11:10:33</td>\n",
       "      <td>0.805607</td>\n",
       "      <td>0.520285</td>\n",
       "      <td>185.0</td>\n",
       "      <td>149.037310</td>\n",
       "    </tr>\n",
       "    <tr>\n",
       "      <th>2</th>\n",
       "      <td>1</td>\n",
       "      <td>2019-05-03 11:11:44</td>\n",
       "      <td>2019-05-03 11:14:36</td>\n",
       "      <td>0.744363</td>\n",
       "      <td>0.498805</td>\n",
       "      <td>172.0</td>\n",
       "      <td>128.030509</td>\n",
       "    </tr>\n",
       "    <tr>\n",
       "      <th>3</th>\n",
       "      <td>1</td>\n",
       "      <td>2019-05-03 11:18:14</td>\n",
       "      <td>2019-05-03 11:24:19</td>\n",
       "      <td>1.659363</td>\n",
       "      <td>1.062669</td>\n",
       "      <td>365.0</td>\n",
       "      <td>605.667332</td>\n",
       "    </tr>\n",
       "    <tr>\n",
       "      <th>4</th>\n",
       "      <td>1</td>\n",
       "      <td>2019-05-03 11:26:09</td>\n",
       "      <td>2019-05-03 11:28:37</td>\n",
       "      <td>0.692755</td>\n",
       "      <td>0.414397</td>\n",
       "      <td>148.0</td>\n",
       "      <td>102.527702</td>\n",
       "    </tr>\n",
       "  </tbody>\n",
       "</table>\n",
       "</div>"
      ],
      "text/plain": [
       "   key Начало нагрева дугой Конец нагрева дугой  Активная мощность  \\\n",
       "0    1  2019-05-03 11:02:14 2019-05-03 11:06:02           0.976059   \n",
       "1    1  2019-05-03 11:07:28 2019-05-03 11:10:33           0.805607   \n",
       "2    1  2019-05-03 11:11:44 2019-05-03 11:14:36           0.744363   \n",
       "3    1  2019-05-03 11:18:14 2019-05-03 11:24:19           1.659363   \n",
       "4    1  2019-05-03 11:26:09 2019-05-03 11:28:37           0.692755   \n",
       "\n",
       "   Реактивная мощность  Время нагрева  Переданная энергия  \n",
       "0             0.687084          228.0          222.541395  \n",
       "1             0.520285          185.0          149.037310  \n",
       "2             0.498805          172.0          128.030509  \n",
       "3             1.062669          365.0          605.667332  \n",
       "4             0.414397          148.0          102.527702  "
      ]
     },
     "execution_count": 11,
     "metadata": {},
     "output_type": "execute_result"
    }
   ],
   "source": [
    "# функция перевода timedelta в секунды\n",
    "def ts(date):\n",
    "    return date.total_seconds()\n",
    "# переводим даты в формат datetime\n",
    "data_arc['Начало нагрева дугой'] = pd.to_datetime(data_arc['Начало нагрева дугой'], format='%Y-%m-%d %H:%M:%S')\n",
    "data_arc['Конец нагрева дугой'] = pd.to_datetime(data_arc['Конец нагрева дугой'], format='%Y-%m-%d %H:%M:%S')\n",
    "# находим разницы и переводим их в секунды\n",
    "data_arc['Время нагрева'] = (data_arc['Конец нагрева дугой'] - data_arc['Начало нагрева дугой']).apply(ts)\n",
    "# считаем переданную энергию\n",
    "data_arc['Переданная энергия'] = data_arc['Время нагрева']*data_arc['Активная мощность']\n",
    "# выводим первые пять строк таблицы\n",
    "data_arc.head()"
   ]
  },
  {
   "cell_type": "markdown",
   "id": "4d9cfe3a",
   "metadata": {},
   "source": [
    "Посмотрим на зависимость активной мощности и переданной энергии от времени нагрева."
   ]
  },
  {
   "cell_type": "code",
   "execution_count": 12,
   "id": "eb285c9a",
   "metadata": {},
   "outputs": [
    {
     "data": {
      "image/png": "[encoded data removed]",
      "text/plain": [
       "<Figure size 360x360 with 1 Axes>"
      ]
     },
     "metadata": {
      "needs_background": "light"
     },
     "output_type": "display_data"
    },
    {
     "data": {
      "image/png": "[encoded data removed]",
      "text/plain": [
       "<Figure size 360x360 with 1 Axes>"
      ]
     },
     "metadata": {
      "needs_background": "light"
     },
     "output_type": "display_data"
    }
   ],
   "source": [
    "# зависимость активной мощности от времени нагрева\n",
    "data_arc.plot(x='Время нагрева', y='Активная мощность', kind='scatter', alpha=0.05,  figsize=(5, 5), grid=False)\n",
    "plt.title('Зависимость активной мощности от времени нагрева \\n')\n",
    "plt.xlabel('Время нагрева')\n",
    "plt.ylabel('Активная мощность')\n",
    "plt.show()\n",
    "\n",
    "# зависимость переданной энергии от времени нагрева\n",
    "data_arc.plot(x='Время нагрева', y='Переданная энергия', kind='scatter', alpha=0.05,  figsize=(5, 5), grid=False)\n",
    "plt.title('Зависимость переданной энергии от времени нагрева \\n')\n",
    "plt.xlabel('Время нагрева')\n",
    "plt.ylabel('Переданная энергия')\n",
    "plt.show()"
   ]
  },
  {
   "cell_type": "markdown",
   "id": "f94561f1",
   "metadata": {},
   "source": [
    "В первом случае зависимость линейная, а во втором - квадратичная, что наталкивает на мысль, что активной мощностью в таблице была названа как раз переданная энергия. Думаю, будет правильным просуммировать \"активную мощность\" в каждом процессе и назвать полученную величину переданной энергией."
   ]
  },
  {
   "cell_type": "markdown",
   "id": "2f3fdfee",
   "metadata": {},
   "source": [
    "Создадим сводную таблицу с числом циклов за процесс, суммами переданной энергии за процесс."
   ]
  },
  {
   "cell_type": "code",
   "execution_count": 13,
   "id": "69a830f8",
   "metadata": {},
   "outputs": [
    {
     "name": "stdout",
     "output_type": "stream",
     "text": [
      "   key  Число циклов  Переданная энергия\n",
      "0    1             5            4.878147\n",
      "1    2             4            3.052598\n",
      "2    3             5            2.525882\n",
      "3    4             4            3.209250\n",
      "4    5             4            3.347173\n"
     ]
    }
   ],
   "source": [
    "# создаём сводную таблицу\n",
    "pivot_arc = pd.pivot_table(data_arc, index='key', values=['Активная мощность'], \n",
    "                           aggfunc=['count', 'sum'])\n",
    "pivot_arc.reset_index(inplace=True)\n",
    "pivot_arc.columns = ['key', 'Число циклов', 'Переданная энергия']\n",
    "# выводим первые 5 строк\n",
    "print(pivot_arc.head())"
   ]
  },
  {
   "cell_type": "markdown",
   "id": "e565427d",
   "metadata": {},
   "source": [
    "Построим распределения числа циклов нагрева и переданных энергий за процесс."
   ]
  },
  {
   "cell_type": "code",
   "execution_count": 14,
   "id": "e4ec5aa6",
   "metadata": {},
   "outputs": [
    {
     "data": {
      "image/png": "[encoded data removed]",
      "text/plain": [
       "<Figure size 432x288 with 1 Axes>"
      ]
     },
     "metadata": {
      "needs_background": "light"
     },
     "output_type": "display_data"
    },
    {
     "name": "stdout",
     "output_type": "stream",
     "text": [
      "Процент пропусков: 0.0 %\n"
     ]
    }
   ],
   "source": [
    "# строим распределение числа циклов нагрева за процесс\n",
    "hist_maker('Число циклов', pivot_arc, 'Распределение числа циклов нагрева \\n')"
   ]
  },
  {
   "cell_type": "code",
   "execution_count": 15,
   "id": "c4b11125",
   "metadata": {},
   "outputs": [
    {
     "data": {
      "text/plain": [
       "array([ 5,  4,  6,  3,  7, 12, 10, 13,  1,  2,  8,  9, 11, 15, 16, 14])"
      ]
     },
     "execution_count": 15,
     "metadata": {},
     "output_type": "execute_result"
    }
   ],
   "source": [
    "# выводим варианты числа циклов за процесс\n",
    "pivot_arc['Число циклов'].unique()"
   ]
  },
  {
   "cell_type": "code",
   "execution_count": 16,
   "id": "b92c560b",
   "metadata": {},
   "outputs": [
    {
     "data": {
      "image/png": "[encoded data removed]",
      "text/plain": [
       "<Figure size 432x288 with 1 Axes>"
      ]
     },
     "metadata": {
      "needs_background": "light"
     },
     "output_type": "display_data"
    },
    {
     "name": "stdout",
     "output_type": "stream",
     "text": [
      "Процент пропусков: 0.0 %\n"
     ]
    },
    {
     "data": {
      "text/plain": [
       "count    3214.000000\n",
       "mean        3.103138\n",
       "std         1.397390\n",
       "min         0.186226\n",
       "25%         2.126339\n",
       "50%         2.990537\n",
       "75%         3.901147\n",
       "max        17.496497\n",
       "Name: Переданная энергия, dtype: float64"
      ]
     },
     "execution_count": 16,
     "metadata": {},
     "output_type": "execute_result"
    }
   ],
   "source": [
    "# строим распределение переданной энергии нагрева за процесс\n",
    "hist_maker('Переданная энергия', pivot_arc, 'Распределение переданной энергии за процесс \\n')\n",
    "# выводим описание\n",
    "pivot_arc['Переданная энергия'].describe()"
   ]
  },
  {
   "cell_type": "markdown",
   "id": "28740e1d",
   "metadata": {},
   "source": [
    "Выведем строчку с максимальным значением энергии."
   ]
  },
  {
   "cell_type": "code",
   "execution_count": 17,
   "id": "67dac09a",
   "metadata": {},
   "outputs": [
    {
     "data": {
      "text/html": [
       "<div>\n",
       "<style scoped>\n",
       "    .dataframe tbody tr th:only-of-type {\n",
       "        vertical-align: middle;\n",
       "    }\n",
       "\n",
       "    .dataframe tbody tr th {\n",
       "        vertical-align: top;\n",
       "    }\n",
       "\n",
       "    .dataframe thead th {\n",
       "        text-align: right;\n",
       "    }\n",
       "</style>\n",
       "<table border=\"1\" class=\"dataframe\">\n",
       "  <thead>\n",
       "    <tr style=\"text-align: right;\">\n",
       "      <th></th>\n",
       "      <th>key</th>\n",
       "      <th>Число циклов</th>\n",
       "      <th>Переданная энергия</th>\n",
       "    </tr>\n",
       "  </thead>\n",
       "  <tbody>\n",
       "    <tr>\n",
       "      <th>1672</th>\n",
       "      <td>1689</td>\n",
       "      <td>15</td>\n",
       "      <td>17.496497</td>\n",
       "    </tr>\n",
       "  </tbody>\n",
       "</table>\n",
       "</div>"
      ],
      "text/plain": [
       "       key  Число циклов  Переданная энергия\n",
       "1672  1689            15           17.496497"
      ]
     },
     "metadata": {},
     "output_type": "display_data"
    }
   ],
   "source": [
    "# строчка с максимальным значением энергии\n",
    "display(pivot_arc[pivot_arc['Переданная энергия'] == pivot_arc['Переданная энергия'].max()])"
   ]
  },
  {
   "cell_type": "markdown",
   "id": "4f2f0a9c",
   "metadata": {},
   "source": [
    "Из построенных выше распределений можно сделать вывод, что \n",
    "- в процессе может быть от 1 до 16 циклов нагрева, чаще всего 4\n",
    "- значения переданной энергии распределены нормально, но скошено вправо со медианой 2,99, присутствует один явный выброс, который однако можно объяснить тем, что в процессе целых 15 циклов нагрева "
   ]
  },
  {
   "cell_type": "markdown",
   "id": "76861499",
   "metadata": {},
   "source": [
    "### Таблицы с данными о сыпучих добавках"
   ]
  },
  {
   "cell_type": "markdown",
   "id": "5b3e11bc",
   "metadata": {},
   "source": [
    "Применим функцию info_head к таблице data_bulk."
   ]
  },
  {
   "cell_type": "code",
   "execution_count": 18,
   "id": "3c64ce55",
   "metadata": {},
   "outputs": [
    {
     "name": "stdout",
     "output_type": "stream",
     "text": [
      "   key  Bulk 1  Bulk 2  Bulk 3  Bulk 4  Bulk 5  Bulk 6  Bulk 7  Bulk 8  \\\n",
      "0    1     NaN     NaN     NaN    43.0     NaN     NaN     NaN     NaN   \n",
      "1    2     NaN     NaN     NaN    73.0     NaN     NaN     NaN     NaN   \n",
      "2    3     NaN     NaN     NaN    34.0     NaN     NaN     NaN     NaN   \n",
      "3    4     NaN     NaN     NaN    81.0     NaN     NaN     NaN     NaN   \n",
      "4    5     NaN     NaN     NaN    78.0     NaN     NaN     NaN     NaN   \n",
      "\n",
      "   Bulk 9  Bulk 10  Bulk 11  Bulk 12  Bulk 13  Bulk 14  Bulk 15  \n",
      "0     NaN      NaN      NaN    206.0      NaN    150.0    154.0  \n",
      "1     NaN      NaN      NaN    206.0      NaN    149.0    154.0  \n",
      "2     NaN      NaN      NaN    205.0      NaN    152.0    153.0  \n",
      "3     NaN      NaN      NaN    207.0      NaN    153.0    154.0  \n",
      "4     NaN      NaN      NaN    203.0      NaN    151.0    152.0  \n",
      "<class 'pandas.core.frame.DataFrame'>\n",
      "RangeIndex: 3129 entries, 0 to 3128\n",
      "Data columns (total 16 columns):\n",
      " #   Column   Non-Null Count  Dtype  \n",
      "---  ------   --------------  -----  \n",
      " 0   key      3129 non-null   int64  \n",
      " 1   Bulk 1   252 non-null    float64\n",
      " 2   Bulk 2   22 non-null     float64\n",
      " 3   Bulk 3   1298 non-null   float64\n",
      " 4   Bulk 4   1014 non-null   float64\n",
      " 5   Bulk 5   77 non-null     float64\n",
      " 6   Bulk 6   576 non-null    float64\n",
      " 7   Bulk 7   25 non-null     float64\n",
      " 8   Bulk 8   1 non-null      float64\n",
      " 9   Bulk 9   19 non-null     float64\n",
      " 10  Bulk 10  176 non-null    float64\n",
      " 11  Bulk 11  177 non-null    float64\n",
      " 12  Bulk 12  2450 non-null   float64\n",
      " 13  Bulk 13  18 non-null     float64\n",
      " 14  Bulk 14  2806 non-null   float64\n",
      " 15  Bulk 15  2248 non-null   float64\n",
      "dtypes: float64(15), int64(1)\n",
      "memory usage: 391.2 KB\n",
      "None\n",
      "               key      Bulk 1      Bulk 2       Bulk 3       Bulk 4  \\\n",
      "count  3129.000000  252.000000   22.000000  1298.000000  1014.000000   \n",
      "mean   1624.383509   39.242063  253.045455   113.879045   104.394477   \n",
      "std     933.337642   18.277654   21.180578    75.483494    48.184126   \n",
      "min       1.000000   10.000000  228.000000     6.000000    12.000000   \n",
      "25%     816.000000   27.000000  242.000000    58.000000    72.000000   \n",
      "50%    1622.000000   31.000000  251.500000    97.500000   102.000000   \n",
      "75%    2431.000000   46.000000  257.750000   152.000000   133.000000   \n",
      "max    3241.000000  185.000000  325.000000   454.000000   281.000000   \n",
      "\n",
      "           Bulk 5      Bulk 6      Bulk 7  Bulk 8      Bulk 9     Bulk 10  \\\n",
      "count   77.000000  576.000000   25.000000     1.0   19.000000  176.000000   \n",
      "mean   107.025974  118.925347  305.600000    49.0   76.315789   83.284091   \n",
      "std     81.790646   72.057776  191.022904     NaN   21.720581   26.060347   \n",
      "min     11.000000   17.000000   47.000000    49.0   63.000000   24.000000   \n",
      "25%     70.000000   69.750000  155.000000    49.0   66.000000   64.000000   \n",
      "50%     86.000000  100.000000  298.000000    49.0   68.000000   86.500000   \n",
      "75%    132.000000  157.000000  406.000000    49.0   70.500000  102.000000   \n",
      "max    603.000000  503.000000  772.000000    49.0  147.000000  159.000000   \n",
      "\n",
      "          Bulk 11      Bulk 12     Bulk 13      Bulk 14      Bulk 15  \n",
      "count  177.000000  2450.000000   18.000000  2806.000000  2248.000000  \n",
      "mean    76.819209   260.471020  181.111111   170.284747   160.513345  \n",
      "std     59.655365   120.649269   46.088009    65.868652    51.765319  \n",
      "min      8.000000    53.000000  151.000000    16.000000     1.000000  \n",
      "25%     25.000000   204.000000  153.250000   119.000000   105.000000  \n",
      "50%     64.000000   208.000000  155.500000   151.000000   160.000000  \n",
      "75%    106.000000   316.000000  203.500000   205.750000   205.000000  \n",
      "max    313.000000  1849.000000  305.000000   636.000000   405.000000  \n"
     ]
    }
   ],
   "source": [
    "info_head(data_bulk) # применяем функцию info_head к таблице data_bulk"
   ]
  },
  {
   "cell_type": "code",
   "execution_count": 19,
   "id": "1a5cce33",
   "metadata": {},
   "outputs": [
    {
     "name": "stdout",
     "output_type": "stream",
     "text": [
      "Число уникальных процессов: 3129\n"
     ]
    }
   ],
   "source": [
    "# выводим число уникальных процессов\n",
    "print('Число уникальных процессов:', data_bulk['key'].nunique())"
   ]
  },
  {
   "cell_type": "markdown",
   "id": "a150fb41",
   "metadata": {},
   "source": [
    "Таблица содержит данные о объёмах добавленния 15 легирующих материалов в 3129 процессах, что на 85 процессов меньше, чем в таблице с данными об электродах. Очевидно, NaN означает, что материал не добавлялся, и должно быть заменено на 0 при подготовке данных.\n",
    "\n",
    "Посмотрим на рапределения объёмов добавления материалов."
   ]
  },
  {
   "cell_type": "code",
   "execution_count": 20,
   "id": "edc44dcf",
   "metadata": {},
   "outputs": [
    {
     "data": {
      "image/png": "[encoded data removed]",
      "text/plain": [
       "<Figure size 432x288 with 1 Axes>"
      ]
     },
     "metadata": {
      "needs_background": "light"
     },
     "output_type": "display_data"
    },
    {
     "name": "stdout",
     "output_type": "stream",
     "text": [
      "Процент пропусков: 91.95 %\n"
     ]
    },
    {
     "data": {
      "image/png": "[encoded data removed]",
      "text/plain": [
       "<Figure size 432x288 with 1 Axes>"
      ]
     },
     "metadata": {
      "needs_background": "light"
     },
     "output_type": "display_data"
    },
    {
     "name": "stdout",
     "output_type": "stream",
     "text": [
      "Процент пропусков: 99.3 %\n"
     ]
    },
    {
     "data": {
      "image/png": "[encoded data removed]",
      "text/plain": [
       "<Figure size 432x288 with 1 Axes>"
      ]
     },
     "metadata": {
      "needs_background": "light"
     },
     "output_type": "display_data"
    },
    {
     "name": "stdout",
     "output_type": "stream",
     "text": [
      "Процент пропусков: 58.52 %\n"
     ]
    },
    {
     "data": {
      "image/png": "[encoded data removed]",
      "text/plain": [
       "<Figure size 432x288 with 1 Axes>"
      ]
     },
     "metadata": {
      "needs_background": "light"
     },
     "output_type": "display_data"
    },
    {
     "name": "stdout",
     "output_type": "stream",
     "text": [
      "Процент пропусков: 67.59 %\n"
     ]
    },
    {
     "data": {
      "image/png": "[encoded data removed]",
      "text/plain": [
       "<Figure size 432x288 with 1 Axes>"
      ]
     },
     "metadata": {
      "needs_background": "light"
     },
     "output_type": "display_data"
    },
    {
     "name": "stdout",
     "output_type": "stream",
     "text": [
      "Процент пропусков: 97.54 %\n"
     ]
    },
    {
     "data": {
      "image/png": "[encoded data removed]",
      "text/plain": [
       "<Figure size 432x288 with 1 Axes>"
      ]
     },
     "metadata": {
      "needs_background": "light"
     },
     "output_type": "display_data"
    },
    {
     "name": "stdout",
     "output_type": "stream",
     "text": [
      "Процент пропусков: 81.59 %\n"
     ]
    },
    {
     "data": {
      "image/png": "[encoded data removed]",
      "text/plain": [
       "<Figure size 432x288 with 1 Axes>"
      ]
     },
     "metadata": {
      "needs_background": "light"
     },
     "output_type": "display_data"
    },
    {
     "name": "stdout",
     "output_type": "stream",
     "text": [
      "Процент пропусков: 99.2 %\n"
     ]
    },
    {
     "data": {
      "image/png": "[encoded data removed]",
      "text/plain": [
       "<Figure size 432x288 with 1 Axes>"
      ]
     },
     "metadata": {
      "needs_background": "light"
     },
     "output_type": "display_data"
    },
    {
     "name": "stdout",
     "output_type": "stream",
     "text": [
      "Процент пропусков: 99.97 %\n"
     ]
    },
    {
     "data": {
      "image/png": "[encoded data removed]",
      "text/plain": [
       "<Figure size 432x288 with 1 Axes>"
      ]
     },
     "metadata": {
      "needs_background": "light"
     },
     "output_type": "display_data"
    },
    {
     "name": "stdout",
     "output_type": "stream",
     "text": [
      "Процент пропусков: 99.39 %\n"
     ]
    },
    {
     "data": {
      "image/png": "[encoded data removed]",
      "text/plain": [
       "<Figure size 432x288 with 1 Axes>"
      ]
     },
     "metadata": {
      "needs_background": "light"
     },
     "output_type": "display_data"
    },
    {
     "name": "stdout",
     "output_type": "stream",
     "text": [
      "Процент пропусков: 94.38 %\n"
     ]
    },
    {
     "data": {
      "image/png": "[encoded data removed]",
      "text/plain": [
       "<Figure size 432x288 with 1 Axes>"
      ]
     },
     "metadata": {
      "needs_background": "light"
     },
     "output_type": "display_data"
    },
    {
     "name": "stdout",
     "output_type": "stream",
     "text": [
      "Процент пропусков: 94.34 %\n"
     ]
    },
    {
     "data": {
      "image/png": "[encoded data removed]",
      "text/plain": [
       "<Figure size 432x288 with 1 Axes>"
      ]
     },
     "metadata": {
      "needs_background": "light"
     },
     "output_type": "display_data"
    },
    {
     "name": "stdout",
     "output_type": "stream",
     "text": [
      "Процент пропусков: 21.7 %\n"
     ]
    },
    {
     "data": {
      "image/png": "[encoded data removed]",
      "text/plain": [
       "<Figure size 432x288 with 1 Axes>"
      ]
     },
     "metadata": {
      "needs_background": "light"
     },
     "output_type": "display_data"
    },
    {
     "name": "stdout",
     "output_type": "stream",
     "text": [
      "Процент пропусков: 99.42 %\n"
     ]
    },
    {
     "data": {
      "image/png": "[encoded data removed]",
      "text/plain": [
       "<Figure size 432x288 with 1 Axes>"
      ]
     },
     "metadata": {
      "needs_background": "light"
     },
     "output_type": "display_data"
    },
    {
     "name": "stdout",
     "output_type": "stream",
     "text": [
      "Процент пропусков: 10.32 %\n"
     ]
    },
    {
     "data": {
      "image/png": "[encoded data removed]",
      "text/plain": [
       "<Figure size 432x288 with 1 Axes>"
      ]
     },
     "metadata": {
      "needs_background": "light"
     },
     "output_type": "display_data"
    },
    {
     "name": "stdout",
     "output_type": "stream",
     "text": [
      "Процент пропусков: 28.16 %\n"
     ]
    }
   ],
   "source": [
    "# создаём новую таблицу без номера процесса и строим диаграммы распределения объёмов добавления для каждого материала\n",
    "data_bulk_no_key = data_bulk.drop(['key'], axis=1)\n",
    "for column in data_bulk_no_key.columns:\n",
    "    hist_maker(column, data_bulk_no_key, column)"
   ]
  },
  {
   "cell_type": "markdown",
   "id": "37541d6e",
   "metadata": {},
   "source": [
    "В таблице присутствуют материалы, которые добавляются в почти 90 % случаев, а есть те, которые добавляются в менее, чем 1 % случаев. Разброс средних объёмов добавления составляет примерно порядок. На некоторых диаграммах (примеси 9, 13, 15) можно выделить несколько отдельных групп пиков, вероятно, они соответствуют разным сортам стали.\n",
    "\n",
    "Посмотрим на таблицу с временным режимом добавления легирующих материалов."
   ]
  },
  {
   "cell_type": "code",
   "execution_count": 21,
   "id": "6880376d",
   "metadata": {},
   "outputs": [
    {
     "name": "stdout",
     "output_type": "stream",
     "text": [
      "   key Bulk 1 Bulk 2 Bulk 3               Bulk 4 Bulk 5 Bulk 6 Bulk 7 Bulk 8  \\\n",
      "0    1    NaN    NaN    NaN  2019-05-03 11:21:30    NaN    NaN    NaN    NaN   \n",
      "1    2    NaN    NaN    NaN  2019-05-03 11:46:38    NaN    NaN    NaN    NaN   \n",
      "2    3    NaN    NaN    NaN  2019-05-03 12:31:06    NaN    NaN    NaN    NaN   \n",
      "3    4    NaN    NaN    NaN  2019-05-03 12:48:43    NaN    NaN    NaN    NaN   \n",
      "4    5    NaN    NaN    NaN  2019-05-03 13:18:50    NaN    NaN    NaN    NaN   \n",
      "\n",
      "  Bulk 9 Bulk 10 Bulk 11              Bulk 12 Bulk 13              Bulk 14  \\\n",
      "0    NaN     NaN     NaN  2019-05-03 11:03:52     NaN  2019-05-03 11:03:52   \n",
      "1    NaN     NaN     NaN  2019-05-03 11:40:20     NaN  2019-05-03 11:40:20   \n",
      "2    NaN     NaN     NaN  2019-05-03 12:09:40     NaN  2019-05-03 12:09:40   \n",
      "3    NaN     NaN     NaN  2019-05-03 12:41:24     NaN  2019-05-03 12:41:24   \n",
      "4    NaN     NaN     NaN  2019-05-03 13:12:56     NaN  2019-05-03 13:12:56   \n",
      "\n",
      "               Bulk 15  \n",
      "0  2019-05-03 11:03:52  \n",
      "1  2019-05-03 11:40:20  \n",
      "2  2019-05-03 12:09:40  \n",
      "3  2019-05-03 12:41:24  \n",
      "4  2019-05-03 13:12:56  \n",
      "<class 'pandas.core.frame.DataFrame'>\n",
      "RangeIndex: 3129 entries, 0 to 3128\n",
      "Data columns (total 16 columns):\n",
      " #   Column   Non-Null Count  Dtype \n",
      "---  ------   --------------  ----- \n",
      " 0   key      3129 non-null   int64 \n",
      " 1   Bulk 1   252 non-null    object\n",
      " 2   Bulk 2   22 non-null     object\n",
      " 3   Bulk 3   1298 non-null   object\n",
      " 4   Bulk 4   1014 non-null   object\n",
      " 5   Bulk 5   77 non-null     object\n",
      " 6   Bulk 6   576 non-null    object\n",
      " 7   Bulk 7   25 non-null     object\n",
      " 8   Bulk 8   1 non-null      object\n",
      " 9   Bulk 9   19 non-null     object\n",
      " 10  Bulk 10  176 non-null    object\n",
      " 11  Bulk 11  177 non-null    object\n",
      " 12  Bulk 12  2450 non-null   object\n",
      " 13  Bulk 13  18 non-null     object\n",
      " 14  Bulk 14  2806 non-null   object\n",
      " 15  Bulk 15  2248 non-null   object\n",
      "dtypes: int64(1), object(15)\n",
      "memory usage: 391.2+ KB\n",
      "None\n",
      "               key\n",
      "count  3129.000000\n",
      "mean   1624.383509\n",
      "std     933.337642\n",
      "min       1.000000\n",
      "25%     816.000000\n",
      "50%    1622.000000\n",
      "75%    2431.000000\n",
      "max    3241.000000\n"
     ]
    }
   ],
   "source": [
    "# применяем функцию info_head к таблице data_bulk_time\n",
    "info_head(data_bulk_time)"
   ]
  },
  {
   "cell_type": "markdown",
   "id": "da46b014",
   "metadata": {},
   "source": [
    "Как видно из этой таблицы, за раз может добавляться как одно вещество, так и несколько"
   ]
  },
  {
   "cell_type": "markdown",
   "id": "4c2b62da",
   "metadata": {},
   "source": [
    "Наконец, посмотрим на корреляцию объёмов добавления различных легирующих материалов."
   ]
  },
  {
   "cell_type": "markdown",
   "id": "6bae486b",
   "metadata": {},
   "source": [
    "Теперь заполним пропуски в таблице нулями."
   ]
  },
  {
   "cell_type": "code",
   "execution_count": 22,
   "id": "590861bf",
   "metadata": {},
   "outputs": [],
   "source": [
    "# заполняем пропуски нулями\n",
    "data_bulk = data_bulk.fillna(0)"
   ]
  },
  {
   "cell_type": "code",
   "execution_count": 23,
   "id": "74ca7a45",
   "metadata": {
    "scrolled": false
   },
   "outputs": [
    {
     "data": {
      "text/html": [
       "<div>\n",
       "<style scoped>\n",
       "    .dataframe tbody tr th:only-of-type {\n",
       "        vertical-align: middle;\n",
       "    }\n",
       "\n",
       "    .dataframe tbody tr th {\n",
       "        vertical-align: top;\n",
       "    }\n",
       "\n",
       "    .dataframe thead th {\n",
       "        text-align: right;\n",
       "    }\n",
       "</style>\n",
       "<table border=\"1\" class=\"dataframe\">\n",
       "  <thead>\n",
       "    <tr style=\"text-align: right;\">\n",
       "      <th></th>\n",
       "      <th>Bulk 1</th>\n",
       "      <th>Bulk 2</th>\n",
       "      <th>Bulk 3</th>\n",
       "      <th>Bulk 4</th>\n",
       "      <th>Bulk 5</th>\n",
       "      <th>Bulk 6</th>\n",
       "      <th>Bulk 7</th>\n",
       "      <th>Bulk 8</th>\n",
       "      <th>Bulk 9</th>\n",
       "      <th>Bulk 10</th>\n",
       "      <th>Bulk 11</th>\n",
       "      <th>Bulk 12</th>\n",
       "      <th>Bulk 13</th>\n",
       "      <th>Bulk 14</th>\n",
       "      <th>Bulk 15</th>\n",
       "    </tr>\n",
       "  </thead>\n",
       "  <tbody>\n",
       "    <tr>\n",
       "      <th>Bulk 1</th>\n",
       "      <td>1.000000</td>\n",
       "      <td>0.259609</td>\n",
       "      <td>-0.007222</td>\n",
       "      <td>0.050981</td>\n",
       "      <td>0.088394</td>\n",
       "      <td>0.010362</td>\n",
       "      <td>0.257701</td>\n",
       "      <td>-0.004762</td>\n",
       "      <td>-0.020056</td>\n",
       "      <td>-0.026729</td>\n",
       "      <td>-0.037120</td>\n",
       "      <td>0.285582</td>\n",
       "      <td>0.003179</td>\n",
       "      <td>0.183780</td>\n",
       "      <td>0.001814</td>\n",
       "    </tr>\n",
       "    <tr>\n",
       "      <th>Bulk 2</th>\n",
       "      <td>0.259609</td>\n",
       "      <td>1.000000</td>\n",
       "      <td>-0.053374</td>\n",
       "      <td>0.043135</td>\n",
       "      <td>0.412000</td>\n",
       "      <td>-0.033091</td>\n",
       "      <td>0.757486</td>\n",
       "      <td>-0.001500</td>\n",
       "      <td>-0.006316</td>\n",
       "      <td>-0.019493</td>\n",
       "      <td>-0.005740</td>\n",
       "      <td>-0.110075</td>\n",
       "      <td>-0.006192</td>\n",
       "      <td>-0.157956</td>\n",
       "      <td>-0.114487</td>\n",
       "    </tr>\n",
       "    <tr>\n",
       "      <th>Bulk 3</th>\n",
       "      <td>-0.007222</td>\n",
       "      <td>-0.053374</td>\n",
       "      <td>1.000000</td>\n",
       "      <td>-0.266968</td>\n",
       "      <td>-0.003587</td>\n",
       "      <td>0.073600</td>\n",
       "      <td>-0.043125</td>\n",
       "      <td>0.018249</td>\n",
       "      <td>0.041242</td>\n",
       "      <td>-0.087810</td>\n",
       "      <td>-0.011939</td>\n",
       "      <td>0.008833</td>\n",
       "      <td>-0.007709</td>\n",
       "      <td>0.020869</td>\n",
       "      <td>0.018668</td>\n",
       "    </tr>\n",
       "    <tr>\n",
       "      <th>Bulk 4</th>\n",
       "      <td>0.050981</td>\n",
       "      <td>0.043135</td>\n",
       "      <td>-0.266968</td>\n",
       "      <td>1.000000</td>\n",
       "      <td>0.024622</td>\n",
       "      <td>-0.232814</td>\n",
       "      <td>0.045005</td>\n",
       "      <td>-0.010797</td>\n",
       "      <td>-0.004691</td>\n",
       "      <td>-0.078468</td>\n",
       "      <td>-0.115261</td>\n",
       "      <td>0.098192</td>\n",
       "      <td>0.010349</td>\n",
       "      <td>-0.093962</td>\n",
       "      <td>0.111832</td>\n",
       "    </tr>\n",
       "    <tr>\n",
       "      <th>Bulk 5</th>\n",
       "      <td>0.088394</td>\n",
       "      <td>0.412000</td>\n",
       "      <td>-0.003587</td>\n",
       "      <td>0.024622</td>\n",
       "      <td>1.000000</td>\n",
       "      <td>-0.003383</td>\n",
       "      <td>0.335044</td>\n",
       "      <td>-0.002252</td>\n",
       "      <td>-0.009483</td>\n",
       "      <td>-0.029270</td>\n",
       "      <td>-0.019058</td>\n",
       "      <td>-0.082443</td>\n",
       "      <td>-0.009297</td>\n",
       "      <td>-0.077825</td>\n",
       "      <td>-0.074282</td>\n",
       "    </tr>\n",
       "    <tr>\n",
       "      <th>Bulk 6</th>\n",
       "      <td>0.010362</td>\n",
       "      <td>-0.033091</td>\n",
       "      <td>0.073600</td>\n",
       "      <td>-0.232814</td>\n",
       "      <td>-0.003383</td>\n",
       "      <td>1.000000</td>\n",
       "      <td>-0.029312</td>\n",
       "      <td>-0.007055</td>\n",
       "      <td>-0.029715</td>\n",
       "      <td>-0.091713</td>\n",
       "      <td>0.199409</td>\n",
       "      <td>-0.136876</td>\n",
       "      <td>0.025802</td>\n",
       "      <td>0.199680</td>\n",
       "      <td>-0.101289</td>\n",
       "    </tr>\n",
       "    <tr>\n",
       "      <th>Bulk 7</th>\n",
       "      <td>0.257701</td>\n",
       "      <td>0.757486</td>\n",
       "      <td>-0.043125</td>\n",
       "      <td>0.045005</td>\n",
       "      <td>0.335044</td>\n",
       "      <td>-0.029312</td>\n",
       "      <td>1.000000</td>\n",
       "      <td>-0.001367</td>\n",
       "      <td>-0.005757</td>\n",
       "      <td>-0.017769</td>\n",
       "      <td>-0.009379</td>\n",
       "      <td>-0.049310</td>\n",
       "      <td>-0.005644</td>\n",
       "      <td>-0.110137</td>\n",
       "      <td>-0.102531</td>\n",
       "    </tr>\n",
       "    <tr>\n",
       "      <th>Bulk 8</th>\n",
       "      <td>-0.004762</td>\n",
       "      <td>-0.001500</td>\n",
       "      <td>0.018249</td>\n",
       "      <td>-0.010797</td>\n",
       "      <td>-0.002252</td>\n",
       "      <td>-0.007055</td>\n",
       "      <td>-0.001367</td>\n",
       "      <td>1.000000</td>\n",
       "      <td>0.425791</td>\n",
       "      <td>-0.004156</td>\n",
       "      <td>-0.003423</td>\n",
       "      <td>-0.024087</td>\n",
       "      <td>-0.001320</td>\n",
       "      <td>-0.033676</td>\n",
       "      <td>-0.024408</td>\n",
       "    </tr>\n",
       "    <tr>\n",
       "      <th>Bulk 9</th>\n",
       "      <td>-0.020056</td>\n",
       "      <td>-0.006316</td>\n",
       "      <td>0.041242</td>\n",
       "      <td>-0.004691</td>\n",
       "      <td>-0.009483</td>\n",
       "      <td>-0.029715</td>\n",
       "      <td>-0.005757</td>\n",
       "      <td>0.425791</td>\n",
       "      <td>1.000000</td>\n",
       "      <td>-0.017505</td>\n",
       "      <td>-0.014419</td>\n",
       "      <td>-0.072405</td>\n",
       "      <td>-0.005560</td>\n",
       "      <td>0.035418</td>\n",
       "      <td>-0.096869</td>\n",
       "    </tr>\n",
       "    <tr>\n",
       "      <th>Bulk 10</th>\n",
       "      <td>-0.026729</td>\n",
       "      <td>-0.019493</td>\n",
       "      <td>-0.087810</td>\n",
       "      <td>-0.078468</td>\n",
       "      <td>-0.029270</td>\n",
       "      <td>-0.091713</td>\n",
       "      <td>-0.017769</td>\n",
       "      <td>-0.004156</td>\n",
       "      <td>-0.017505</td>\n",
       "      <td>1.000000</td>\n",
       "      <td>-0.044504</td>\n",
       "      <td>0.032095</td>\n",
       "      <td>0.001358</td>\n",
       "      <td>-0.049872</td>\n",
       "      <td>0.058049</td>\n",
       "    </tr>\n",
       "    <tr>\n",
       "      <th>Bulk 11</th>\n",
       "      <td>-0.037120</td>\n",
       "      <td>-0.005740</td>\n",
       "      <td>-0.011939</td>\n",
       "      <td>-0.115261</td>\n",
       "      <td>-0.019058</td>\n",
       "      <td>0.199409</td>\n",
       "      <td>-0.009379</td>\n",
       "      <td>-0.003423</td>\n",
       "      <td>-0.014419</td>\n",
       "      <td>-0.044504</td>\n",
       "      <td>1.000000</td>\n",
       "      <td>-0.047728</td>\n",
       "      <td>-0.011235</td>\n",
       "      <td>0.065681</td>\n",
       "      <td>-0.040717</td>\n",
       "    </tr>\n",
       "    <tr>\n",
       "      <th>Bulk 12</th>\n",
       "      <td>0.285582</td>\n",
       "      <td>-0.110075</td>\n",
       "      <td>0.008833</td>\n",
       "      <td>0.098192</td>\n",
       "      <td>-0.082443</td>\n",
       "      <td>-0.136876</td>\n",
       "      <td>-0.049310</td>\n",
       "      <td>-0.024087</td>\n",
       "      <td>-0.072405</td>\n",
       "      <td>0.032095</td>\n",
       "      <td>-0.047728</td>\n",
       "      <td>1.000000</td>\n",
       "      <td>0.061139</td>\n",
       "      <td>0.421548</td>\n",
       "      <td>0.591228</td>\n",
       "    </tr>\n",
       "    <tr>\n",
       "      <th>Bulk 13</th>\n",
       "      <td>0.003179</td>\n",
       "      <td>-0.006192</td>\n",
       "      <td>-0.007709</td>\n",
       "      <td>0.010349</td>\n",
       "      <td>-0.009297</td>\n",
       "      <td>0.025802</td>\n",
       "      <td>-0.005644</td>\n",
       "      <td>-0.001320</td>\n",
       "      <td>-0.005560</td>\n",
       "      <td>0.001358</td>\n",
       "      <td>-0.011235</td>\n",
       "      <td>0.061139</td>\n",
       "      <td>1.000000</td>\n",
       "      <td>-0.089167</td>\n",
       "      <td>0.028906</td>\n",
       "    </tr>\n",
       "    <tr>\n",
       "      <th>Bulk 14</th>\n",
       "      <td>0.183780</td>\n",
       "      <td>-0.157956</td>\n",
       "      <td>0.020869</td>\n",
       "      <td>-0.093962</td>\n",
       "      <td>-0.077825</td>\n",
       "      <td>0.199680</td>\n",
       "      <td>-0.110137</td>\n",
       "      <td>-0.033676</td>\n",
       "      <td>0.035418</td>\n",
       "      <td>-0.049872</td>\n",
       "      <td>0.065681</td>\n",
       "      <td>0.421548</td>\n",
       "      <td>-0.089167</td>\n",
       "      <td>1.000000</td>\n",
       "      <td>0.220010</td>\n",
       "    </tr>\n",
       "    <tr>\n",
       "      <th>Bulk 15</th>\n",
       "      <td>0.001814</td>\n",
       "      <td>-0.114487</td>\n",
       "      <td>0.018668</td>\n",
       "      <td>0.111832</td>\n",
       "      <td>-0.074282</td>\n",
       "      <td>-0.101289</td>\n",
       "      <td>-0.102531</td>\n",
       "      <td>-0.024408</td>\n",
       "      <td>-0.096869</td>\n",
       "      <td>0.058049</td>\n",
       "      <td>-0.040717</td>\n",
       "      <td>0.591228</td>\n",
       "      <td>0.028906</td>\n",
       "      <td>0.220010</td>\n",
       "      <td>1.000000</td>\n",
       "    </tr>\n",
       "  </tbody>\n",
       "</table>\n",
       "</div>"
      ],
      "text/plain": [
       "           Bulk 1    Bulk 2    Bulk 3    Bulk 4    Bulk 5    Bulk 6    Bulk 7  \\\n",
       "Bulk 1   1.000000  0.259609 -0.007222  0.050981  0.088394  0.010362  0.257701   \n",
       "Bulk 2   0.259609  1.000000 -0.053374  0.043135  0.412000 -0.033091  0.757486   \n",
       "Bulk 3  -0.007222 -0.053374  1.000000 -0.266968 -0.003587  0.073600 -0.043125   \n",
       "Bulk 4   0.050981  0.043135 -0.266968  1.000000  0.024622 -0.232814  0.045005   \n",
       "Bulk 5   0.088394  0.412000 -0.003587  0.024622  1.000000 -0.003383  0.335044   \n",
       "Bulk 6   0.010362 -0.033091  0.073600 -0.232814 -0.003383  1.000000 -0.029312   \n",
       "Bulk 7   0.257701  0.757486 -0.043125  0.045005  0.335044 -0.029312  1.000000   \n",
       "Bulk 8  -0.004762 -0.001500  0.018249 -0.010797 -0.002252 -0.007055 -0.001367   \n",
       "Bulk 9  -0.020056 -0.006316  0.041242 -0.004691 -0.009483 -0.029715 -0.005757   \n",
       "Bulk 10 -0.026729 -0.019493 -0.087810 -0.078468 -0.029270 -0.091713 -0.017769   \n",
       "Bulk 11 -0.037120 -0.005740 -0.011939 -0.115261 -0.019058  0.199409 -0.009379   \n",
       "Bulk 12  0.285582 -0.110075  0.008833  0.098192 -0.082443 -0.136876 -0.049310   \n",
       "Bulk 13  0.003179 -0.006192 -0.007709  0.010349 -0.009297  0.025802 -0.005644   \n",
       "Bulk 14  0.183780 -0.157956  0.020869 -0.093962 -0.077825  0.199680 -0.110137   \n",
       "Bulk 15  0.001814 -0.114487  0.018668  0.111832 -0.074282 -0.101289 -0.102531   \n",
       "\n",
       "           Bulk 8    Bulk 9   Bulk 10   Bulk 11   Bulk 12   Bulk 13   Bulk 14  \\\n",
       "Bulk 1  -0.004762 -0.020056 -0.026729 -0.037120  0.285582  0.003179  0.183780   \n",
       "Bulk 2  -0.001500 -0.006316 -0.019493 -0.005740 -0.110075 -0.006192 -0.157956   \n",
       "Bulk 3   0.018249  0.041242 -0.087810 -0.011939  0.008833 -0.007709  0.020869   \n",
       "Bulk 4  -0.010797 -0.004691 -0.078468 -0.115261  0.098192  0.010349 -0.093962   \n",
       "Bulk 5  -0.002252 -0.009483 -0.029270 -0.019058 -0.082443 -0.009297 -0.077825   \n",
       "Bulk 6  -0.007055 -0.029715 -0.091713  0.199409 -0.136876  0.025802  0.199680   \n",
       "Bulk 7  -0.001367 -0.005757 -0.017769 -0.009379 -0.049310 -0.005644 -0.110137   \n",
       "Bulk 8   1.000000  0.425791 -0.004156 -0.003423 -0.024087 -0.001320 -0.033676   \n",
       "Bulk 9   0.425791  1.000000 -0.017505 -0.014419 -0.072405 -0.005560  0.035418   \n",
       "Bulk 10 -0.004156 -0.017505  1.000000 -0.044504  0.032095  0.001358 -0.049872   \n",
       "Bulk 11 -0.003423 -0.014419 -0.044504  1.000000 -0.047728 -0.011235  0.065681   \n",
       "Bulk 12 -0.024087 -0.072405  0.032095 -0.047728  1.000000  0.061139  0.421548   \n",
       "Bulk 13 -0.001320 -0.005560  0.001358 -0.011235  0.061139  1.000000 -0.089167   \n",
       "Bulk 14 -0.033676  0.035418 -0.049872  0.065681  0.421548 -0.089167  1.000000   \n",
       "Bulk 15 -0.024408 -0.096869  0.058049 -0.040717  0.591228  0.028906  0.220010   \n",
       "\n",
       "          Bulk 15  \n",
       "Bulk 1   0.001814  \n",
       "Bulk 2  -0.114487  \n",
       "Bulk 3   0.018668  \n",
       "Bulk 4   0.111832  \n",
       "Bulk 5  -0.074282  \n",
       "Bulk 6  -0.101289  \n",
       "Bulk 7  -0.102531  \n",
       "Bulk 8  -0.024408  \n",
       "Bulk 9  -0.096869  \n",
       "Bulk 10  0.058049  \n",
       "Bulk 11 -0.040717  \n",
       "Bulk 12  0.591228  \n",
       "Bulk 13  0.028906  \n",
       "Bulk 14  0.220010  \n",
       "Bulk 15  1.000000  "
      ]
     },
     "metadata": {},
     "output_type": "display_data"
    }
   ],
   "source": [
    "# строим таблицу корреляции\n",
    "data_bulk_no_key = data_bulk.drop(['key'], axis=1)\n",
    "display(data_bulk_no_key.corr())"
   ]
  },
  {
   "cell_type": "markdown",
   "id": "d694ddb4",
   "metadata": {},
   "source": [
    "<br>Между некоторыми парами добавок (2 и 7, 12 и 15) наблюдается хорошая корреляция. Остальные пары коррелируют умеренно или слабо."
   ]
  },
  {
   "cell_type": "markdown",
   "id": "9d791cef",
   "metadata": {},
   "source": [
    "### Таблица с данными о добавках в виде проволоки"
   ]
  },
  {
   "cell_type": "markdown",
   "id": "73bbe5f8",
   "metadata": {},
   "source": [
    "Применим функцию info_head к таблице data_wire."
   ]
  },
  {
   "cell_type": "code",
   "execution_count": 24,
   "id": "71d1421e",
   "metadata": {},
   "outputs": [
    {
     "name": "stdout",
     "output_type": "stream",
     "text": [
      "   key     Wire 1   Wire 2  Wire 3  Wire 4  Wire 5  Wire 6  Wire 7  Wire 8  \\\n",
      "0    1  60.059998      NaN     NaN     NaN     NaN     NaN     NaN     NaN   \n",
      "1    2  96.052315      NaN     NaN     NaN     NaN     NaN     NaN     NaN   \n",
      "2    3  91.160157      NaN     NaN     NaN     NaN     NaN     NaN     NaN   \n",
      "3    4  89.063515      NaN     NaN     NaN     NaN     NaN     NaN     NaN   \n",
      "4    5  89.238236  9.11456     NaN     NaN     NaN     NaN     NaN     NaN   \n",
      "\n",
      "   Wire 9  \n",
      "0     NaN  \n",
      "1     NaN  \n",
      "2     NaN  \n",
      "3     NaN  \n",
      "4     NaN  \n",
      "<class 'pandas.core.frame.DataFrame'>\n",
      "RangeIndex: 3081 entries, 0 to 3080\n",
      "Data columns (total 10 columns):\n",
      " #   Column  Non-Null Count  Dtype  \n",
      "---  ------  --------------  -----  \n",
      " 0   key     3081 non-null   int64  \n",
      " 1   Wire 1  3055 non-null   float64\n",
      " 2   Wire 2  1079 non-null   float64\n",
      " 3   Wire 3  63 non-null     float64\n",
      " 4   Wire 4  14 non-null     float64\n",
      " 5   Wire 5  1 non-null      float64\n",
      " 6   Wire 6  73 non-null     float64\n",
      " 7   Wire 7  11 non-null     float64\n",
      " 8   Wire 8  19 non-null     float64\n",
      " 9   Wire 9  29 non-null     float64\n",
      "dtypes: float64(9), int64(1)\n",
      "memory usage: 240.8 KB\n",
      "None\n",
      "               key       Wire 1       Wire 2      Wire 3      Wire 4  Wire 5  \\\n",
      "count  3081.000000  3055.000000  1079.000000   63.000000   14.000000   1.000   \n",
      "mean   1623.426485   100.895853    50.577323  189.482681   57.442841  15.132   \n",
      "std     932.996726    42.012518    39.320216   99.513444   28.824667     NaN   \n",
      "min       1.000000     1.918800     0.030160    0.144144   24.148801  15.132   \n",
      "25%     823.000000    72.115684    20.193680   95.135044   40.807002  15.132   \n",
      "50%    1619.000000   100.158234    40.142956  235.194977   45.234282  15.132   \n",
      "75%    2434.000000   126.060483    70.227558  276.252014   76.124619  15.132   \n",
      "max    3241.000000   330.314424   282.780152  385.008668  113.231044  15.132   \n",
      "\n",
      "           Wire 6     Wire 7      Wire 8     Wire 9  \n",
      "count   73.000000  11.000000   19.000000  29.000000  \n",
      "mean    48.016974  10.039007   53.625193  34.155752  \n",
      "std     33.919845   8.610584   16.881728  19.931616  \n",
      "min      0.034320   0.234208   45.076721   4.622800  \n",
      "25%     25.053600   6.762756   46.094879  22.058401  \n",
      "50%     42.076324   9.017009   46.279999  30.066399  \n",
      "75%     64.212723  11.886057   48.089603  43.862003  \n",
      "max    180.454575  32.847674  102.762401  90.053604  \n"
     ]
    }
   ],
   "source": [
    "info_head(data_wire) # применяем функцию info_head к таблице data_wire"
   ]
  },
  {
   "cell_type": "code",
   "execution_count": 25,
   "id": "6aaf06ef",
   "metadata": {},
   "outputs": [
    {
     "name": "stdout",
     "output_type": "stream",
     "text": [
      "Число уникальных процессов: 3081\n"
     ]
    }
   ],
   "source": [
    "# выводим число уникальных процессов\n",
    "print('Число уникальных процессов:', data_wire['key'].nunique())"
   ]
  },
  {
   "cell_type": "markdown",
   "id": "23339e66",
   "metadata": {},
   "source": [
    "Здесь мы видим ещё на 48 процессов меньше. А также то, что, кроме первой и второй добавок, все добавки применялись в менее чем 3 % случаев. \n",
    "\n",
    "Посмотрим на рапределения объёмов добавок."
   ]
  },
  {
   "cell_type": "code",
   "execution_count": 26,
   "id": "7e32e960",
   "metadata": {},
   "outputs": [
    {
     "data": {
      "image/png": "[encoded data removed]",
      "text/plain": [
       "<Figure size 432x288 with 1 Axes>"
      ]
     },
     "metadata": {
      "needs_background": "light"
     },
     "output_type": "display_data"
    },
    {
     "name": "stdout",
     "output_type": "stream",
     "text": [
      "Процент пропусков: 0.84 %\n"
     ]
    },
    {
     "data": {
      "image/png": "[encoded data removed]",
      "text/plain": [
       "<Figure size 432x288 with 1 Axes>"
      ]
     },
     "metadata": {
      "needs_background": "light"
     },
     "output_type": "display_data"
    },
    {
     "name": "stdout",
     "output_type": "stream",
     "text": [
      "Процент пропусков: 64.98 %\n"
     ]
    },
    {
     "data": {
      "image/png": "[encoded data removed]",
      "text/plain": [
       "<Figure size 432x288 with 1 Axes>"
      ]
     },
     "metadata": {
      "needs_background": "light"
     },
     "output_type": "display_data"
    },
    {
     "name": "stdout",
     "output_type": "stream",
     "text": [
      "Процент пропусков: 97.96 %\n"
     ]
    },
    {
     "data": {
      "image/png": "[encoded data removed]",
      "text/plain": [
       "<Figure size 432x288 with 1 Axes>"
      ]
     },
     "metadata": {
      "needs_background": "light"
     },
     "output_type": "display_data"
    },
    {
     "name": "stdout",
     "output_type": "stream",
     "text": [
      "Процент пропусков: 99.55 %\n"
     ]
    },
    {
     "data": {
      "image/png": "[encoded data removed]",
      "text/plain": [
       "<Figure size 432x288 with 1 Axes>"
      ]
     },
     "metadata": {
      "needs_background": "light"
     },
     "output_type": "display_data"
    },
    {
     "name": "stdout",
     "output_type": "stream",
     "text": [
      "Процент пропусков: 99.97 %\n"
     ]
    },
    {
     "data": {
      "image/png": "[encoded data removed]",
      "text/plain": [
       "<Figure size 432x288 with 1 Axes>"
      ]
     },
     "metadata": {
      "needs_background": "light"
     },
     "output_type": "display_data"
    },
    {
     "name": "stdout",
     "output_type": "stream",
     "text": [
      "Процент пропусков: 97.63 %\n"
     ]
    },
    {
     "data": {
      "image/png": "[encoded data removed]",
      "text/plain": [
       "<Figure size 432x288 with 1 Axes>"
      ]
     },
     "metadata": {
      "needs_background": "light"
     },
     "output_type": "display_data"
    },
    {
     "name": "stdout",
     "output_type": "stream",
     "text": [
      "Процент пропусков: 99.64 %\n"
     ]
    },
    {
     "data": {
      "image/png": "[encoded data removed]",
      "text/plain": [
       "<Figure size 432x288 with 1 Axes>"
      ]
     },
     "metadata": {
      "needs_background": "light"
     },
     "output_type": "display_data"
    },
    {
     "name": "stdout",
     "output_type": "stream",
     "text": [
      "Процент пропусков: 99.38 %\n"
     ]
    },
    {
     "data": {
      "image/png": "[encoded data removed]",
      "text/plain": [
       "<Figure size 432x288 with 1 Axes>"
      ]
     },
     "metadata": {
      "needs_background": "light"
     },
     "output_type": "display_data"
    },
    {
     "name": "stdout",
     "output_type": "stream",
     "text": [
      "Процент пропусков: 99.06 %\n"
     ]
    }
   ],
   "source": [
    "# создаём новую таблицу без номера процесса и строим диаграммы распределения объёмов добавок\n",
    "data_wire_no_key = data_wire.drop(['key'], axis=1)\n",
    "for column in data_wire_no_key.columns:\n",
    "    hist_maker(column, data_wire_no_key, column)"
   ]
  },
  {
   "cell_type": "markdown",
   "id": "1563c7b1",
   "metadata": {},
   "source": [
    "Добавка 1 использовалась в более чем 99 % случаев, объёмы добавления распределены нормально и симметрично. Добавка 2 - примерно в 35 % случаев, наблюдается в основном обратная зависимость между объёмом добавления и числом случаев добавления.\n",
    "\n",
    "Посмотрим на таблицу с временным режимом добавления."
   ]
  },
  {
   "cell_type": "code",
   "execution_count": 27,
   "id": "5be3644f",
   "metadata": {},
   "outputs": [
    {
     "name": "stdout",
     "output_type": "stream",
     "text": [
      "   key               Wire 1               Wire 2 Wire 3 Wire 4 Wire 5 Wire 6  \\\n",
      "0    1  2019-05-03 11:11:41                  NaN    NaN    NaN    NaN    NaN   \n",
      "1    2  2019-05-03 11:46:10                  NaN    NaN    NaN    NaN    NaN   \n",
      "2    3  2019-05-03 12:13:47                  NaN    NaN    NaN    NaN    NaN   \n",
      "3    4  2019-05-03 12:48:05                  NaN    NaN    NaN    NaN    NaN   \n",
      "4    5  2019-05-03 13:18:15  2019-05-03 13:32:06    NaN    NaN    NaN    NaN   \n",
      "\n",
      "  Wire 7 Wire 8 Wire 9  \n",
      "0    NaN    NaN    NaN  \n",
      "1    NaN    NaN    NaN  \n",
      "2    NaN    NaN    NaN  \n",
      "3    NaN    NaN    NaN  \n",
      "4    NaN    NaN    NaN  \n",
      "<class 'pandas.core.frame.DataFrame'>\n",
      "RangeIndex: 3081 entries, 0 to 3080\n",
      "Data columns (total 10 columns):\n",
      " #   Column  Non-Null Count  Dtype \n",
      "---  ------  --------------  ----- \n",
      " 0   key     3081 non-null   int64 \n",
      " 1   Wire 1  3055 non-null   object\n",
      " 2   Wire 2  1079 non-null   object\n",
      " 3   Wire 3  63 non-null     object\n",
      " 4   Wire 4  14 non-null     object\n",
      " 5   Wire 5  1 non-null      object\n",
      " 6   Wire 6  73 non-null     object\n",
      " 7   Wire 7  11 non-null     object\n",
      " 8   Wire 8  19 non-null     object\n",
      " 9   Wire 9  29 non-null     object\n",
      "dtypes: int64(1), object(9)\n",
      "memory usage: 240.8+ KB\n",
      "None\n",
      "               key\n",
      "count  3081.000000\n",
      "mean   1623.426485\n",
      "std     932.996726\n",
      "min       1.000000\n",
      "25%     823.000000\n",
      "50%    1619.000000\n",
      "75%    2434.000000\n",
      "max    3241.000000\n"
     ]
    }
   ],
   "source": [
    "# применяем функцию info_head к таблице data_wire_time\n",
    "info_head(data_wire_time)"
   ]
  },
  {
   "cell_type": "markdown",
   "id": "8c3e900a",
   "metadata": {},
   "source": [
    "Также видим 3080 записей.\n",
    "\n",
    "Посмотрим на корреляцию объёмов добавления различных веществ."
   ]
  },
  {
   "cell_type": "code",
   "execution_count": 28,
   "id": "86817df3",
   "metadata": {},
   "outputs": [],
   "source": [
    "# заполняем пропуски нулями\n",
    "data_wire = data_wire.fillna(0)"
   ]
  },
  {
   "cell_type": "markdown",
   "id": "5495b43b",
   "metadata": {},
   "source": [
    "Как и в случае с сыпучими добавками, NaN будем считать отсутствием добавки и заполним нулями."
   ]
  },
  {
   "cell_type": "code",
   "execution_count": 29,
   "id": "69f863d0",
   "metadata": {},
   "outputs": [
    {
     "data": {
      "text/html": [
       "<div>\n",
       "<style scoped>\n",
       "    .dataframe tbody tr th:only-of-type {\n",
       "        vertical-align: middle;\n",
       "    }\n",
       "\n",
       "    .dataframe tbody tr th {\n",
       "        vertical-align: top;\n",
       "    }\n",
       "\n",
       "    .dataframe thead th {\n",
       "        text-align: right;\n",
       "    }\n",
       "</style>\n",
       "<table border=\"1\" class=\"dataframe\">\n",
       "  <thead>\n",
       "    <tr style=\"text-align: right;\">\n",
       "      <th></th>\n",
       "      <th>Wire 1</th>\n",
       "      <th>Wire 2</th>\n",
       "      <th>Wire 3</th>\n",
       "      <th>Wire 4</th>\n",
       "      <th>Wire 5</th>\n",
       "      <th>Wire 6</th>\n",
       "      <th>Wire 7</th>\n",
       "      <th>Wire 8</th>\n",
       "      <th>Wire 9</th>\n",
       "    </tr>\n",
       "  </thead>\n",
       "  <tbody>\n",
       "    <tr>\n",
       "      <th>Wire 1</th>\n",
       "      <td>1.000000</td>\n",
       "      <td>-0.047824</td>\n",
       "      <td>0.063818</td>\n",
       "      <td>-0.132207</td>\n",
       "      <td>-0.034386</td>\n",
       "      <td>-0.139721</td>\n",
       "      <td>-0.098728</td>\n",
       "      <td>0.025705</td>\n",
       "      <td>0.019411</td>\n",
       "    </tr>\n",
       "    <tr>\n",
       "      <th>Wire 2</th>\n",
       "      <td>-0.047824</td>\n",
       "      <td>1.000000</td>\n",
       "      <td>0.143669</td>\n",
       "      <td>-0.032135</td>\n",
       "      <td>-0.009524</td>\n",
       "      <td>-0.064760</td>\n",
       "      <td>-0.024473</td>\n",
       "      <td>0.061162</td>\n",
       "      <td>0.205339</td>\n",
       "    </tr>\n",
       "    <tr>\n",
       "      <th>Wire 3</th>\n",
       "      <td>0.063818</td>\n",
       "      <td>0.143669</td>\n",
       "      <td>1.000000</td>\n",
       "      <td>0.150634</td>\n",
       "      <td>0.054946</td>\n",
       "      <td>0.161709</td>\n",
       "      <td>0.126731</td>\n",
       "      <td>-0.009627</td>\n",
       "      <td>-0.010799</td>\n",
       "    </tr>\n",
       "    <tr>\n",
       "      <th>Wire 4</th>\n",
       "      <td>-0.132207</td>\n",
       "      <td>-0.032135</td>\n",
       "      <td>0.150634</td>\n",
       "      <td>1.000000</td>\n",
       "      <td>-0.001096</td>\n",
       "      <td>0.386320</td>\n",
       "      <td>0.221907</td>\n",
       "      <td>-0.004578</td>\n",
       "      <td>-0.005135</td>\n",
       "    </tr>\n",
       "    <tr>\n",
       "      <th>Wire 5</th>\n",
       "      <td>-0.034386</td>\n",
       "      <td>-0.009524</td>\n",
       "      <td>0.054946</td>\n",
       "      <td>-0.001096</td>\n",
       "      <td>1.000000</td>\n",
       "      <td>0.145189</td>\n",
       "      <td>-0.000834</td>\n",
       "      <td>-0.001357</td>\n",
       "      <td>-0.001522</td>\n",
       "    </tr>\n",
       "    <tr>\n",
       "      <th>Wire 6</th>\n",
       "      <td>-0.139721</td>\n",
       "      <td>-0.064760</td>\n",
       "      <td>0.161709</td>\n",
       "      <td>0.386320</td>\n",
       "      <td>0.145189</td>\n",
       "      <td>1.000000</td>\n",
       "      <td>0.269873</td>\n",
       "      <td>-0.009564</td>\n",
       "      <td>-0.010729</td>\n",
       "    </tr>\n",
       "    <tr>\n",
       "      <th>Wire 7</th>\n",
       "      <td>-0.098728</td>\n",
       "      <td>-0.024473</td>\n",
       "      <td>0.126731</td>\n",
       "      <td>0.221907</td>\n",
       "      <td>-0.000834</td>\n",
       "      <td>0.269873</td>\n",
       "      <td>1.000000</td>\n",
       "      <td>-0.003486</td>\n",
       "      <td>-0.003911</td>\n",
       "    </tr>\n",
       "    <tr>\n",
       "      <th>Wire 8</th>\n",
       "      <td>0.025705</td>\n",
       "      <td>0.061162</td>\n",
       "      <td>-0.009627</td>\n",
       "      <td>-0.004578</td>\n",
       "      <td>-0.001357</td>\n",
       "      <td>-0.009564</td>\n",
       "      <td>-0.003486</td>\n",
       "      <td>1.000000</td>\n",
       "      <td>-0.006360</td>\n",
       "    </tr>\n",
       "    <tr>\n",
       "      <th>Wire 9</th>\n",
       "      <td>0.019411</td>\n",
       "      <td>0.205339</td>\n",
       "      <td>-0.010799</td>\n",
       "      <td>-0.005135</td>\n",
       "      <td>-0.001522</td>\n",
       "      <td>-0.010729</td>\n",
       "      <td>-0.003911</td>\n",
       "      <td>-0.006360</td>\n",
       "      <td>1.000000</td>\n",
       "    </tr>\n",
       "  </tbody>\n",
       "</table>\n",
       "</div>"
      ],
      "text/plain": [
       "          Wire 1    Wire 2    Wire 3    Wire 4    Wire 5    Wire 6    Wire 7  \\\n",
       "Wire 1  1.000000 -0.047824  0.063818 -0.132207 -0.034386 -0.139721 -0.098728   \n",
       "Wire 2 -0.047824  1.000000  0.143669 -0.032135 -0.009524 -0.064760 -0.024473   \n",
       "Wire 3  0.063818  0.143669  1.000000  0.150634  0.054946  0.161709  0.126731   \n",
       "Wire 4 -0.132207 -0.032135  0.150634  1.000000 -0.001096  0.386320  0.221907   \n",
       "Wire 5 -0.034386 -0.009524  0.054946 -0.001096  1.000000  0.145189 -0.000834   \n",
       "Wire 6 -0.139721 -0.064760  0.161709  0.386320  0.145189  1.000000  0.269873   \n",
       "Wire 7 -0.098728 -0.024473  0.126731  0.221907 -0.000834  0.269873  1.000000   \n",
       "Wire 8  0.025705  0.061162 -0.009627 -0.004578 -0.001357 -0.009564 -0.003486   \n",
       "Wire 9  0.019411  0.205339 -0.010799 -0.005135 -0.001522 -0.010729 -0.003911   \n",
       "\n",
       "          Wire 8    Wire 9  \n",
       "Wire 1  0.025705  0.019411  \n",
       "Wire 2  0.061162  0.205339  \n",
       "Wire 3 -0.009627 -0.010799  \n",
       "Wire 4 -0.004578 -0.005135  \n",
       "Wire 5 -0.001357 -0.001522  \n",
       "Wire 6 -0.009564 -0.010729  \n",
       "Wire 7 -0.003486 -0.003911  \n",
       "Wire 8  1.000000 -0.006360  \n",
       "Wire 9 -0.006360  1.000000  "
      ]
     },
     "metadata": {},
     "output_type": "display_data"
    }
   ],
   "source": [
    "# строим таблицу корреляции\n",
    "data_wire_no_key = data_wire.drop(['key'], axis=1)\n",
    "display(data_wire_no_key.corr())"
   ]
  },
  {
   "cell_type": "markdown",
   "id": "4fccef10",
   "metadata": {},
   "source": [
    "Заметно коррелируют только примеси 4 и 6."
   ]
  },
  {
   "cell_type": "markdown",
   "id": "fae8f2fa",
   "metadata": {},
   "source": [
    "### Таблица с данными о продувке сплава инертным газом"
   ]
  },
  {
   "cell_type": "markdown",
   "id": "46da78b6",
   "metadata": {},
   "source": [
    "Применим функцию info_head к таблице data_wire, посмотрим на число уникальных процессов в таблице."
   ]
  },
  {
   "cell_type": "code",
   "execution_count": 30,
   "id": "6c2133ca",
   "metadata": {},
   "outputs": [
    {
     "name": "stdout",
     "output_type": "stream",
     "text": [
      "   key      Газ 1\n",
      "0    1  29.749986\n",
      "1    2  12.555561\n",
      "2    3  28.554793\n",
      "3    4  18.841219\n",
      "4    5   5.413692\n",
      "<class 'pandas.core.frame.DataFrame'>\n",
      "RangeIndex: 3239 entries, 0 to 3238\n",
      "Data columns (total 2 columns):\n",
      " #   Column  Non-Null Count  Dtype  \n",
      "---  ------  --------------  -----  \n",
      " 0   key     3239 non-null   int64  \n",
      " 1   Газ 1   3239 non-null   float64\n",
      "dtypes: float64(1), int64(1)\n",
      "memory usage: 50.7 KB\n",
      "None\n",
      "               key        Газ 1\n",
      "count  3239.000000  3239.000000\n",
      "mean   1621.861377    11.002062\n",
      "std     935.386334     6.220327\n",
      "min       1.000000     0.008399\n",
      "25%     812.500000     7.043089\n",
      "50%    1622.000000     9.836267\n",
      "75%    2431.500000    13.769915\n",
      "max    3241.000000    77.995040\n"
     ]
    }
   ],
   "source": [
    "# применим функцию info_head к таблице data_wire\n",
    "info_head(data_gas)"
   ]
  },
  {
   "cell_type": "code",
   "execution_count": 31,
   "id": "3cd50e46",
   "metadata": {},
   "outputs": [
    {
     "name": "stdout",
     "output_type": "stream",
     "text": [
      "Число уникальных процессов: 3239\n"
     ]
    }
   ],
   "source": [
    "# выводим число уникальных процессов\n",
    "print('Число уникальных процессов:', data_gas['key'].nunique())"
   ]
  },
  {
   "cell_type": "markdown",
   "id": "772e1e3b",
   "metadata": {},
   "source": [
    "Здесь уникальных процессов на 25 больше, чем в таблице с информацией об электродах.\n",
    "\n",
    "Построим распределение объёмов инертного газа."
   ]
  },
  {
   "cell_type": "code",
   "execution_count": 32,
   "id": "a64de3d9",
   "metadata": {},
   "outputs": [
    {
     "data": {
      "image/png": "[encoded data removed]",
      "text/plain": [
       "<Figure size 432x288 with 1 Axes>"
      ]
     },
     "metadata": {
      "needs_background": "light"
     },
     "output_type": "display_data"
    },
    {
     "name": "stdout",
     "output_type": "stream",
     "text": [
      "Процент пропусков: 0.0 %\n"
     ]
    }
   ],
   "source": [
    "# строим распределение объёмов инертного газа\n",
    "hist_maker('Газ 1', data_gas, 'Распределение объёма пропущенного газа \\n')"
   ]
  },
  {
   "cell_type": "markdown",
   "id": "1d73c83b",
   "metadata": {},
   "source": [
    "В среднем объём равен 11 единицам, со стандартным отклонением 6. Однако есть \"хвост\" в большую сторону, который доходит аж до 80. "
   ]
  },
  {
   "cell_type": "markdown",
   "id": "c22ea204",
   "metadata": {},
   "source": [
    "### Таблица с данными об измерениях температуры сплавов"
   ]
  },
  {
   "cell_type": "markdown",
   "id": "ce4e22f9",
   "metadata": {},
   "source": [
    "Применим функцию info_head к таблице data_temp, посмотрим на число уникальных процессов."
   ]
  },
  {
   "cell_type": "code",
   "execution_count": 33,
   "id": "a8446a7d",
   "metadata": {},
   "outputs": [
    {
     "name": "stdout",
     "output_type": "stream",
     "text": [
      "   key         Время замера  Температура\n",
      "0    1  2019-05-03 11:16:18       1571.0\n",
      "1    1  2019-05-03 11:25:53       1604.0\n",
      "2    1  2019-05-03 11:29:11       1618.0\n",
      "3    1  2019-05-03 11:30:01       1601.0\n",
      "4    1  2019-05-03 11:30:39       1613.0\n",
      "<class 'pandas.core.frame.DataFrame'>\n",
      "RangeIndex: 15907 entries, 0 to 15906\n",
      "Data columns (total 3 columns):\n",
      " #   Column        Non-Null Count  Dtype  \n",
      "---  ------        --------------  -----  \n",
      " 0   key           15907 non-null  int64  \n",
      " 1   Время замера  15907 non-null  object \n",
      " 2   Температура   13006 non-null  float64\n",
      "dtypes: float64(1), int64(1), object(1)\n",
      "memory usage: 372.9+ KB\n",
      "None\n",
      "                key   Температура\n",
      "count  15907.000000  13006.000000\n",
      "mean    1607.880870   1591.840920\n",
      "std      942.212073     21.375851\n",
      "min        1.000000   1191.000000\n",
      "25%      790.000000   1581.000000\n",
      "50%     1618.000000   1591.000000\n",
      "75%     2427.000000   1601.000000\n",
      "max     3241.000000   1705.000000\n"
     ]
    }
   ],
   "source": [
    "info_head(data_temp) # применим функцию info_head к таблице data_temp"
   ]
  },
  {
   "cell_type": "code",
   "execution_count": 34,
   "id": "4c895b33",
   "metadata": {},
   "outputs": [
    {
     "name": "stdout",
     "output_type": "stream",
     "text": [
      "Число уникальных процессов: 3216\n"
     ]
    }
   ],
   "source": [
    "# выводим число уникальных процессов\n",
    "print('Число уникальных процессов:', data_temp['key'].nunique())"
   ]
  },
  {
   "cell_type": "markdown",
   "id": "3d7f27cc",
   "metadata": {},
   "source": [
    "Уникальных процессов на 2 больше, чем в таблице с электродами.\n",
    "\n",
    "Посмотрим, как у нас распределена температура."
   ]
  },
  {
   "cell_type": "code",
   "execution_count": 35,
   "id": "330208c3",
   "metadata": {},
   "outputs": [
    {
     "data": {
      "image/png": "[encoded data removed]",
      "text/plain": [
       "<Figure size 432x288 with 1 Axes>"
      ]
     },
     "metadata": {
      "needs_background": "light"
     },
     "output_type": "display_data"
    },
    {
     "name": "stdout",
     "output_type": "stream",
     "text": [
      "Процент пропусков: 18.24 %\n"
     ]
    }
   ],
   "source": [
    "hist_maker('Температура', data_temp, 'Распределение температур \\n')"
   ]
  },
  {
   "cell_type": "markdown",
   "id": "d65abbcb",
   "metadata": {},
   "source": [
    "Мы видим симметричное и довольно узкое распределение со средним в 1591 градус. Для построения модели мы будем использовать лишь первую и последнюю температуры. Для этого нам нужно выделить эти данные из общей таблицы с температурами.\n",
    "Сначала выделим данные о первой температуре."
   ]
  },
  {
   "cell_type": "code",
   "execution_count": 36,
   "id": "0b79e8d8",
   "metadata": {},
   "outputs": [
    {
     "name": "stdout",
     "output_type": "stream",
     "text": [
      "<class 'pandas.core.frame.DataFrame'>\n",
      "Int64Index: 3216 entries, 0 to 3215\n",
      "Data columns (total 3 columns):\n",
      " #   Column                 Non-Null Count  Dtype  \n",
      "---  ------                 --------------  -----  \n",
      " 0   key                    3216 non-null   int64  \n",
      " 1   Время первого замера   3216 non-null   object \n",
      " 2   Начальная температура  3216 non-null   float64\n",
      "dtypes: float64(1), int64(1), object(1)\n",
      "memory usage: 100.5+ KB\n"
     ]
    }
   ],
   "source": [
    "# создаём таблицу с временем и температурой первого замера\n",
    "first_time = pd.pivot_table(data_temp, index='key', values='Время замера', \n",
    "                           aggfunc='first')\n",
    "first_time.reset_index(inplace=True)\n",
    "first_time.columns = ['key', 'Время замера']\n",
    "\n",
    "first_time_temp = pd.merge(data_temp, first_time, on=['key', 'Время замера'], how='inner')\n",
    "first_time_temp.columns = ['key', 'Время первого замера', 'Начальная температура']\n",
    "\n",
    "# выводим информацию о таблице с первым замером\n",
    "first_time_temp.info()\n",
    "\n"
   ]
  },
  {
   "cell_type": "markdown",
   "id": "7bacbd0c",
   "metadata": {},
   "source": [
    "Теперь извлечём данные о конечной температуре."
   ]
  },
  {
   "cell_type": "code",
   "execution_count": 37,
   "id": "28b99790",
   "metadata": {},
   "outputs": [
    {
     "name": "stdout",
     "output_type": "stream",
     "text": [
      "<class 'pandas.core.frame.DataFrame'>\n",
      "Int64Index: 3216 entries, 0 to 3215\n",
      "Data columns (total 3 columns):\n",
      " #   Column                   Non-Null Count  Dtype  \n",
      "---  ------                   --------------  -----  \n",
      " 0   key                      3216 non-null   int64  \n",
      " 1   Время последнего замера  3216 non-null   object \n",
      " 2   Конечная температура     2477 non-null   float64\n",
      "dtypes: float64(1), int64(1), object(1)\n",
      "memory usage: 100.5+ KB\n"
     ]
    }
   ],
   "source": [
    "# создаём таблицу с временем и температурой последнего замера\n",
    "last_time = pd.pivot_table(data_temp, index='key', values='Время замера', \n",
    "                           aggfunc='last')\n",
    "last_time.reset_index(inplace=True)\n",
    "last_time.columns = ['key', 'Время замера']\n",
    "\n",
    "last_time_temp = pd.merge(data_temp, last_time, on=['key', 'Время замера'], how='inner')\n",
    "last_time_temp.columns = ['key', 'Время последнего замера', 'Конечная температура']\n",
    "\n",
    "# выводим информацию о таблице с последним замером\n",
    "last_time_temp.info()"
   ]
  },
  {
   "cell_type": "markdown",
   "id": "cdbfa9ee",
   "metadata": {},
   "source": [
    "В таблице с данными о последнем замере обнаружено целых 739 пропуска. Это наш целевой признак. Поэтому, к сожалению, придётся удалить данные о почти 23% процессов."
   ]
  },
  {
   "cell_type": "code",
   "execution_count": 38,
   "id": "591af65e",
   "metadata": {},
   "outputs": [],
   "source": [
    "# создаём сводную таблицу со первой и последней температурами за процесс\n",
    "pivot_temp = pd.merge(first_time_temp, last_time_temp, on=['key'], how='inner')\n",
    "#удаляем строки с пропуском целевого признака\n",
    "pivot_temp = pivot_temp.dropna()"
   ]
  },
  {
   "cell_type": "markdown",
   "id": "4a71e149",
   "metadata": {},
   "source": [
    "На всякий случай избавимся от записей, где совпадают времена первого и последнего замеров. Затем оставляем только колонки с температурами."
   ]
  },
  {
   "cell_type": "code",
   "execution_count": 39,
   "id": "2f48c261",
   "metadata": {},
   "outputs": [
    {
     "name": "stdout",
     "output_type": "stream",
     "text": [
      "   key  Начальная температура  Конечная температура\n",
      "0    1                 1571.0                1613.0\n",
      "1    2                 1581.0                1602.0\n",
      "2    3                 1596.0                1599.0\n",
      "3    4                 1601.0                1625.0\n",
      "4    5                 1576.0                1602.0\n",
      "<class 'pandas.core.frame.DataFrame'>\n",
      "Int64Index: 2475 entries, 0 to 2476\n",
      "Data columns (total 3 columns):\n",
      " #   Column                 Non-Null Count  Dtype  \n",
      "---  ------                 --------------  -----  \n",
      " 0   key                    2475 non-null   int64  \n",
      " 1   Начальная температура  2475 non-null   float64\n",
      " 2   Конечная температура   2475 non-null   float64\n",
      "dtypes: float64(2), int64(1)\n",
      "memory usage: 77.3 KB\n",
      "None\n",
      "               key  Начальная температура  Конечная температура\n",
      "count  2475.000000            2475.000000           2475.000000\n",
      "mean   1250.787071            1588.402020           1595.336162\n",
      "std     719.787271              29.243044             16.023153\n",
      "min       1.000000            1191.000000           1541.000000\n",
      "25%     629.500000            1572.000000           1587.000000\n",
      "50%    1252.000000            1588.000000           1593.000000\n",
      "75%    1872.500000            1605.000000           1599.000000\n",
      "max    2499.000000            1679.000000           1700.000000\n"
     ]
    }
   ],
   "source": [
    "# перезаписываем сборную таблицу с температурами, чтобы не было записей с совпадением времени первого и последнего замера\n",
    "pivot_temp = pivot_temp[pivot_temp['Время первого замера'] != pivot_temp['Время последнего замера']]\n",
    "pivot_temp = pivot_temp.drop(['Время первого замера', 'Время последнего замера'], axis=1)\n",
    "# выводим информацию о сборной таблице с температурами \n",
    "info_head(pivot_temp)"
   ]
  },
  {
   "cell_type": "markdown",
   "id": "6ac21381",
   "metadata": {},
   "source": [
    "Построим распределения начальной и конечной температур."
   ]
  },
  {
   "cell_type": "code",
   "execution_count": 40,
   "id": "166a34a2",
   "metadata": {},
   "outputs": [
    {
     "data": {
      "image/png": "[encoded data removed]",
      "text/plain": [
       "<Figure size 576x432 with 1 Axes>"
      ]
     },
     "metadata": {
      "needs_background": "light"
     },
     "output_type": "display_data"
    }
   ],
   "source": [
    "pivot_temp['Начальная температура'].hist(bins=100, grid=False, legend=True, figsize=(8, 6))\n",
    "pivot_temp['Конечная температура'].hist(bins=100, grid=False, legend=True)\n",
    "plt.xlabel('Температура') \n",
    "plt.ylabel('Число')\n",
    "plt.xlim(1500, 1700)\n",
    "plt.title('Распределение начальной и конечной температур') \n",
    "plt.show()"
   ]
  },
  {
   "cell_type": "markdown",
   "id": "77bcf825",
   "metadata": {},
   "source": [
    "Видно, что конечная температура изменяется в значительно более узком диапазоне, чем начальная. Это в принципе видно и по величинам стандартных отклонений - 16 и 29 градусов соответственно."
   ]
  },
  {
   "cell_type": "markdown",
   "id": "93c8f9a4",
   "metadata": {},
   "source": [
    "Теперь посмотрим на зависимость конечной температуры от начальной и коэффициент корреляции между ними."
   ]
  },
  {
   "cell_type": "code",
   "execution_count": 41,
   "id": "225903f0",
   "metadata": {},
   "outputs": [
    {
     "data": {
      "image/png": "[encoded data removed]",
      "text/plain": [
       "<Figure size 360x360 with 1 Axes>"
      ]
     },
     "metadata": {
      "needs_background": "light"
     },
     "output_type": "display_data"
    },
    {
     "name": "stdout",
     "output_type": "stream",
     "text": [
      "Коэффициент корреляции: 0.37662057864082815\n"
     ]
    }
   ],
   "source": [
    "# зависимость конечной температуры процесса от начальной\n",
    "pivot_temp.plot(x='Начальная температура', y='Конечная температура', kind='scatter', alpha=0.05,  figsize=(5, 5), grid=False)\n",
    "plt.title('Зависимость конечной температуры процесса от начальной \\n')\n",
    "plt.xlabel('Начальная температура')\n",
    "plt.ylabel('Конечная температура')\n",
    "plt.show()\n",
    "# выведем коэффициент корреляции\n",
    "print(\"Коэффициент корреляции:\", pivot_temp['Начальная температура'].corr(pivot_temp['Конечная температура']))"
   ]
  },
  {
   "cell_type": "markdown",
   "id": "7ac8fe11",
   "metadata": {},
   "source": [
    "На диаграмме видим основное скопление точек в районе одного \"облачка\" и ещё несколько небольших скоплений. Коэффициент корреляции показывает очень умеренную корреляцию начальной и конечной температурю"
   ]
  },
  {
   "cell_type": "markdown",
   "id": "6afebb93",
   "metadata": {},
   "source": [
    "### Объединение таблиц"
   ]
  },
  {
   "cell_type": "markdown",
   "id": "0e902195",
   "metadata": {},
   "source": [
    "Объединим все таблицы по типу inner."
   ]
  },
  {
   "cell_type": "code",
   "execution_count": 42,
   "id": "0f435526",
   "metadata": {},
   "outputs": [
    {
     "name": "stdout",
     "output_type": "stream",
     "text": [
      "<class 'pandas.core.frame.DataFrame'>\n",
      "Int64Index: 2329 entries, 0 to 2328\n",
      "Data columns (total 30 columns):\n",
      " #   Column                 Non-Null Count  Dtype  \n",
      "---  ------                 --------------  -----  \n",
      " 0   key                    2329 non-null   int64  \n",
      " 1   Bulk 1                 2329 non-null   float64\n",
      " 2   Bulk 2                 2329 non-null   float64\n",
      " 3   Bulk 3                 2329 non-null   float64\n",
      " 4   Bulk 4                 2329 non-null   float64\n",
      " 5   Bulk 5                 2329 non-null   float64\n",
      " 6   Bulk 6                 2329 non-null   float64\n",
      " 7   Bulk 7                 2329 non-null   float64\n",
      " 8   Bulk 8                 2329 non-null   float64\n",
      " 9   Bulk 9                 2329 non-null   float64\n",
      " 10  Bulk 10                2329 non-null   float64\n",
      " 11  Bulk 11                2329 non-null   float64\n",
      " 12  Bulk 12                2329 non-null   float64\n",
      " 13  Bulk 13                2329 non-null   float64\n",
      " 14  Bulk 14                2329 non-null   float64\n",
      " 15  Bulk 15                2329 non-null   float64\n",
      " 16  Wire 1                 2329 non-null   float64\n",
      " 17  Wire 2                 2329 non-null   float64\n",
      " 18  Wire 3                 2329 non-null   float64\n",
      " 19  Wire 4                 2329 non-null   float64\n",
      " 20  Wire 5                 2329 non-null   float64\n",
      " 21  Wire 6                 2329 non-null   float64\n",
      " 22  Wire 7                 2329 non-null   float64\n",
      " 23  Wire 8                 2329 non-null   float64\n",
      " 24  Wire 9                 2329 non-null   float64\n",
      " 25  Газ 1                  2329 non-null   float64\n",
      " 26  Число циклов           2329 non-null   int64  \n",
      " 27  Переданная энергия     2329 non-null   float64\n",
      " 28  Начальная температура  2329 non-null   float64\n",
      " 29  Конечная температура   2329 non-null   float64\n",
      "dtypes: float64(28), int64(2)\n",
      "memory usage: 564.1 KB\n"
     ]
    }
   ],
   "source": [
    "# объединяем таблицы\n",
    "data_additives = pd.merge(data_bulk, data_wire, on='key', how='inner')\n",
    "data_gas_arc = pd.merge(data_gas, pivot_arc, on='key', how='inner')\n",
    "data_overall = pd.merge(data_additives, data_gas_arc, on='key', how='inner')\n",
    "data_overall = pd.merge(data_overall, pivot_temp, on='key', how='inner')\n",
    "# выводим информацию об общей таблице\n",
    "data_overall.info()"
   ]
  },
  {
   "cell_type": "markdown",
   "id": "baeca2f7",
   "metadata": {},
   "source": [
    "Посчитаем коэффициенты корреляции конечной температуры со всеми остальными столбцами."
   ]
  },
  {
   "cell_type": "code",
   "execution_count": 43,
   "id": "fee6bf82",
   "metadata": {},
   "outputs": [
    {
     "name": "stdout",
     "output_type": "stream",
     "text": [
      "key -0.09724236367764742\n",
      "Bulk 1 -0.07520631603834539\n",
      "Bulk 2 -0.08245413933606655\n",
      "Bulk 3 -0.035976805655181895\n",
      "Bulk 4 0.187969652332423\n",
      "Bulk 5 -0.028355089991533425\n",
      "Bulk 6 -0.18181629388466336\n",
      "Bulk 7 -0.10727523369020128\n",
      "Bulk 8 -0.0265867813623683\n",
      "Bulk 9 -0.016075353072374766\n",
      "Bulk 10 0.06134979600660928\n",
      "Bulk 11 -0.11475344239620079\n",
      "Bulk 12 0.2674241685976358\n",
      "Bulk 13 -0.010919940470578147\n",
      "Bulk 14 0.11461728871026404\n",
      "Bulk 15 0.266414061094266\n",
      "Wire 1 0.31757525534185416\n",
      "Wire 2 -0.2066715595635878\n",
      "Wire 3 -0.0475365692076413\n",
      "Wire 4 -0.15971861665473513\n",
      "Wire 5 nan\n",
      "Wire 6 -0.08403400564317451\n",
      "Wire 7 -0.13726171310152263\n",
      "Wire 8 -0.010766580778981965\n",
      "Wire 9 -0.027488013364657303\n",
      "Газ 1 0.05916021049982479\n",
      "Число циклов 0.1808149084867309\n",
      "Переданная энергия 0.2902765911062375\n",
      "Начальная температура 0.2524434837648973\n",
      "Конечная температура 0.9999999999999999\n"
     ]
    }
   ],
   "source": [
    "# выведем коэффициент корреляции\n",
    "for column in data_overall.columns:\n",
    "    print(column, data_overall['Конечная температура'].corr(data_overall[column]))"
   ]
  },
  {
   "cell_type": "markdown",
   "id": "464570d2",
   "metadata": {},
   "source": [
    "Есть небольшая, но заметная корреляция с некоторыми примесями (Bulk 12, Bulk 15, Wire 1) и с такими параметрами как переданная энергия и начальная температура."
   ]
  },
  {
   "cell_type": "markdown",
   "id": "e4913347",
   "metadata": {},
   "source": [
    "### Основные выводы этапа 1"
   ]
  },
  {
   "cell_type": "markdown",
   "id": "56670d6d",
   "metadata": {},
   "source": [
    "- число уникальных процессов в таблицах отличается, но не сильно, минимум их в таблице с проволочными добавками - 3080. В таблице с температурами - 3214 уникальных процессов\n",
    "- в процессе может быть от 1 до 16 циклов нагрева, в среднем - 4\n",
    "- некоторые добавки встречаются в большой доле процессов, некоторые в очень маленьком числе случаев\n",
    "- добавление некоторых легирующих материалов заметно взаимосвязано\n",
    "- конечная температура слабо коррелирует с начальной температурой, переданной энергией и объёмами некоторых добавок \n",
    "- конечная температура распределена заметно уже начальной, следовательно, даже константная модель (медиана) будет давать неплохой результат"
   ]
  },
  {
   "cell_type": "markdown",
   "id": "e56a20bd",
   "metadata": {},
   "source": [
    "## Этап 2. Подготовка признаков"
   ]
  },
  {
   "cell_type": "markdown",
   "id": "771eb3fe",
   "metadata": {},
   "source": [
    "На этом этапе мы \n",
    "- отделим целевой признак от остальных\n",
    "- создадим тренировочную и тестовую выборки\n",
    "- исследуем признаки на мультиколлинеарность с исключим признаки с очень высокими значениями VIF"
   ]
  },
  {
   "cell_type": "code",
   "execution_count": 44,
   "id": "6469d016",
   "metadata": {},
   "outputs": [
    {
     "name": "stdout",
     "output_type": "stream",
     "text": [
      "Размеры тренировочного набора: (1746, 28) (1746,)\n",
      "Размеры тестового набора: (583, 28) (583,)\n"
     ]
    }
   ],
   "source": [
    "target = data_overall['Конечная температура'] # извлекаем целевой признак\n",
    "features = data_overall.drop(['Конечная температура', 'key'], axis=1) # извлекаем остальные признаки \n",
    "\n",
    "# отделяем 25% данных для тестовой выборки\n",
    "features_train, features_test, target_train, target_test = train_test_split(\n",
    "    features, target, test_size=.25, random_state=171022) \n",
    "\n",
    "print('Размеры тренировочного набора:', features_train.shape, target_train.shape) # смотрим размеры тренировочного набора\n",
    "print('Размеры тестового набора:', features_test.shape, target_test.shape) # смотрим размеры тестового набора"
   ]
  },
  {
   "cell_type": "markdown",
   "id": "c524492e",
   "metadata": {},
   "source": [
    "Мы подготовили тренировочный и тестовый наборы для дальнейшей работы. Перед тем, как приступить к работе с моделями, исследуем признаки на мультиколлинеарность, для этого найдём для каждого признака фактор инфляции дисперсии (VIF)."
   ]
  },
  {
   "cell_type": "code",
   "execution_count": 45,
   "id": "64a8bf86",
   "metadata": {},
   "outputs": [
    {
     "name": "stderr",
     "output_type": "stream",
     "text": [
      "/opt/conda/lib/python3.9/site-packages/statsmodels/regression/linear_model.py:1736: RuntimeWarning: invalid value encountered in double_scalars\n",
      "  return 1 - self.ssr/self.centered_tss\n"
     ]
    },
    {
     "name": "stdout",
     "output_type": "stream",
     "text": [
      "    VIF Factor               features\n",
      "0       3725.8                  const\n",
      "1          1.5                 Bulk 1\n",
      "2          2.8                 Bulk 2\n",
      "3          1.2                 Bulk 3\n",
      "4          1.4                 Bulk 4\n",
      "5          1.1                 Bulk 5\n",
      "6          1.4                 Bulk 6\n",
      "7          2.7                 Bulk 7\n",
      "8          4.3                 Bulk 8\n",
      "9         69.4                 Bulk 9\n",
      "10         1.1                Bulk 10\n",
      "11         1.1                Bulk 11\n",
      "12         2.7                Bulk 12\n",
      "13         1.1                Bulk 13\n",
      "14         1.8                Bulk 14\n",
      "15         1.8                Bulk 15\n",
      "16         1.4                 Wire 1\n",
      "17         1.2                 Wire 2\n",
      "18         1.1                 Wire 3\n",
      "19         6.7                 Wire 4\n",
      "20         NaN                 Wire 5\n",
      "21         1.5                 Wire 6\n",
      "22         3.3                 Wire 7\n",
      "23        57.2                 Wire 8\n",
      "24         1.1                 Wire 9\n",
      "25         1.6                  Газ 1\n",
      "26         2.8           Число циклов\n",
      "27         3.8     Переданная энергия\n",
      "28         1.3  Начальная температура\n"
     ]
    }
   ],
   "source": [
    "# находим значения VIF для всех признаков и записывает их в таблицу\n",
    "features_temp = sm.add_constant(features_train)\n",
    "vif = pd.DataFrame()\n",
    "vif[\"VIF Factor\"] = [variance_inflation_factor(features_temp.values, i) for i in range(features_temp.values.shape[1])]\n",
    "vif[\"features\"] = features_temp.columns\n",
    "print(vif.round(1))"
   ]
  },
  {
   "cell_type": "markdown",
   "id": "883c6139",
   "metadata": {},
   "source": [
    "У признаков Bulk 9 и Wire 8 очень высокие VIF, а значит, они сильно связаны с другими признаками, и их можно исключить из набора признаков. Обновим наши тренировочный и тестовый датасеты."
   ]
  },
  {
   "cell_type": "code",
   "execution_count": 46,
   "id": "2c3db472",
   "metadata": {},
   "outputs": [],
   "source": [
    "# исключаем из датасетов признаки с высокими VIF\n",
    "features_train = features_train.drop(['Bulk 9'], axis=1)\n",
    "features_test = features_test.drop(['Bulk 9'], axis=1)"
   ]
  },
  {
   "cell_type": "markdown",
   "id": "0a913c02",
   "metadata": {},
   "source": [
    "Найдём VIF для оставшихся признаков."
   ]
  },
  {
   "cell_type": "code",
   "execution_count": 47,
   "id": "91abea25",
   "metadata": {},
   "outputs": [
    {
     "name": "stderr",
     "output_type": "stream",
     "text": [
      "/opt/conda/lib/python3.9/site-packages/statsmodels/regression/linear_model.py:1736: RuntimeWarning: invalid value encountered in double_scalars\n",
      "  return 1 - self.ssr/self.centered_tss\n"
     ]
    },
    {
     "name": "stdout",
     "output_type": "stream",
     "text": [
      "    VIF Factor               features\n",
      "0       3720.1                  const\n",
      "1          1.5                 Bulk 1\n",
      "2          2.8                 Bulk 2\n",
      "3          1.2                 Bulk 3\n",
      "4          1.4                 Bulk 4\n",
      "5          1.1                 Bulk 5\n",
      "6          1.4                 Bulk 6\n",
      "7          2.7                 Bulk 7\n",
      "8          1.1                 Bulk 8\n",
      "9          1.1                Bulk 10\n",
      "10         1.1                Bulk 11\n",
      "11         2.7                Bulk 12\n",
      "12         1.1                Bulk 13\n",
      "13         1.8                Bulk 14\n",
      "14         1.8                Bulk 15\n",
      "15         1.4                 Wire 1\n",
      "16         1.2                 Wire 2\n",
      "17         1.1                 Wire 3\n",
      "18         6.7                 Wire 4\n",
      "19         NaN                 Wire 5\n",
      "20         1.5                 Wire 6\n",
      "21         3.3                 Wire 7\n",
      "22         1.2                 Wire 8\n",
      "23         1.1                 Wire 9\n",
      "24         1.6                  Газ 1\n",
      "25         2.8           Число циклов\n",
      "26         3.8     Переданная энергия\n",
      "27         1.3  Начальная температура\n"
     ]
    }
   ],
   "source": [
    "# находим значения VIF для всех оставшихся признаков и записывает их в таблицу\n",
    "features_temp = sm.add_constant(features_train)\n",
    "vif = pd.DataFrame()\n",
    "vif[\"VIF Factor\"] = [variance_inflation_factor(features_temp.values, i) for i in range(features_temp.values.shape[1])]\n",
    "vif[\"features\"] = features_temp.columns\n",
    "print(vif.round(1))"
   ]
  },
  {
   "cell_type": "markdown",
   "id": "853ad25a",
   "metadata": {},
   "source": [
    "Признаков с высокими VIF не осталось."
   ]
  },
  {
   "cell_type": "markdown",
   "id": "2f7ef2b2",
   "metadata": {},
   "source": [
    "### Основные выводы этапа 2"
   ]
  },
  {
   "cell_type": "markdown",
   "id": "7b6afe3e",
   "metadata": {},
   "source": [
    "- Датасет был разделён на тренировочный и тестовый наборы в соотношении 3:1\n",
    "- Анализ признаков на мультиколлинеарность показал, что в датасете есть два признака с высокими VIF. Удаление одного из них позволило избавиться от мультиколлинеарности."
   ]
  },
  {
   "cell_type": "markdown",
   "id": "89a83586",
   "metadata": {},
   "source": [
    "## Этап 3. Подбор модели"
   ]
  },
  {
   "cell_type": "markdown",
   "id": "c1b013a7",
   "metadata": {},
   "source": [
    "На этом этапе мы с помощью RandomizedSearchCV подберём наилучшие гиперпараметры каждой модели. В качестве метрики будем использовать MAE. Попробуем следующие модели:\n",
    "- линейная регрессия\n",
    "- случайный лес\n",
    "- CatBoost\n",
    "- LightGBM\n",
    "- XGBoost"
   ]
  },
  {
   "cell_type": "markdown",
   "id": "9547bf45",
   "metadata": {},
   "source": [
    "Напишем функцию, в которую включим RandomizedSearchCV и вывод метрики и параметров лучшей модели."
   ]
  },
  {
   "cell_type": "code",
   "execution_count": 48,
   "id": "1bb4021c",
   "metadata": {},
   "outputs": [],
   "source": [
    "# создаём функцию model_adjuster, которая с помощью RandomizedSearchCV будет подбирать \n",
    "# гиперпараметры моделей, сохранять лучшие модели, выводить их параметры и MAE \n",
    "def model_adjuster(features, target, model, params, name):\n",
    "    rscv = RandomizedSearchCV(model, param_distributions=params, scoring='neg_mean_absolute_error', cv=5, random_state=171022)\n",
    "\n",
    "    search = rscv.fit(features, target)\n",
    "    score = -1*search.best_score_\n",
    "    estimator = search.best_estimator_\n",
    "    cv_results = pd.DataFrame(search.cv_results_).sort_values(by='rank_test_score')\n",
    "    joblib.dump(estimator, name)\n",
    "       \n",
    "    print(name, '\\n' )\n",
    "    print('MAE: ', score, '\\n')\n",
    "    print('Параметры модели: ', search.best_params_, '\\n')\n",
    "    display('Результаты кросс-валидации: ', cv_results)"
   ]
  },
  {
   "cell_type": "markdown",
   "id": "5ca5a5cf",
   "metadata": {},
   "source": [
    "### Линейная регрессия"
   ]
  },
  {
   "cell_type": "code",
   "execution_count": 49,
   "id": "8b66a814",
   "metadata": {
    "scrolled": true
   },
   "outputs": [
    {
     "name": "stdout",
     "output_type": "stream",
     "text": [
      "Линейная регрессия \n",
      "\n",
      "MAE:  6.74160561299602 \n",
      "\n",
      "Параметры модели:  {} \n",
      "\n"
     ]
    },
    {
     "data": {
      "text/plain": [
       "'Результаты кросс-валидации: '"
      ]
     },
     "metadata": {},
     "output_type": "display_data"
    },
    {
     "data": {
      "text/html": [
       "<div>\n",
       "<style scoped>\n",
       "    .dataframe tbody tr th:only-of-type {\n",
       "        vertical-align: middle;\n",
       "    }\n",
       "\n",
       "    .dataframe tbody tr th {\n",
       "        vertical-align: top;\n",
       "    }\n",
       "\n",
       "    .dataframe thead th {\n",
       "        text-align: right;\n",
       "    }\n",
       "</style>\n",
       "<table border=\"1\" class=\"dataframe\">\n",
       "  <thead>\n",
       "    <tr style=\"text-align: right;\">\n",
       "      <th></th>\n",
       "      <th>mean_fit_time</th>\n",
       "      <th>std_fit_time</th>\n",
       "      <th>mean_score_time</th>\n",
       "      <th>std_score_time</th>\n",
       "      <th>params</th>\n",
       "      <th>split0_test_score</th>\n",
       "      <th>split1_test_score</th>\n",
       "      <th>split2_test_score</th>\n",
       "      <th>split3_test_score</th>\n",
       "      <th>split4_test_score</th>\n",
       "      <th>mean_test_score</th>\n",
       "      <th>std_test_score</th>\n",
       "      <th>rank_test_score</th>\n",
       "    </tr>\n",
       "  </thead>\n",
       "  <tbody>\n",
       "    <tr>\n",
       "      <th>0</th>\n",
       "      <td>0.097756</td>\n",
       "      <td>0.060384</td>\n",
       "      <td>0.059488</td>\n",
       "      <td>0.072274</td>\n",
       "      <td>{}</td>\n",
       "      <td>-6.496426</td>\n",
       "      <td>-6.746309</td>\n",
       "      <td>-7.276866</td>\n",
       "      <td>-6.570614</td>\n",
       "      <td>-6.617813</td>\n",
       "      <td>-6.741606</td>\n",
       "      <td>0.279715</td>\n",
       "      <td>1</td>\n",
       "    </tr>\n",
       "  </tbody>\n",
       "</table>\n",
       "</div>"
      ],
      "text/plain": [
       "   mean_fit_time  std_fit_time  mean_score_time  std_score_time params  \\\n",
       "0       0.097756      0.060384         0.059488        0.072274     {}   \n",
       "\n",
       "   split0_test_score  split1_test_score  split2_test_score  split3_test_score  \\\n",
       "0          -6.496426          -6.746309          -7.276866          -6.570614   \n",
       "\n",
       "   split4_test_score  mean_test_score  std_test_score  rank_test_score  \n",
       "0          -6.617813        -6.741606        0.279715                1  "
      ]
     },
     "metadata": {},
     "output_type": "display_data"
    }
   ],
   "source": [
    "warnings.filterwarnings('ignore')\n",
    "\n",
    "model = LinearRegression() # создаём модель\n",
    "params={} # задаём параметры\n",
    "# запускаем функцию model_adjuster\n",
    "model_adjuster(features_train, target_train, model, params, 'Линейная регрессия') "
   ]
  },
  {
   "cell_type": "markdown",
   "id": "6c63c230",
   "metadata": {},
   "source": [
    "### Случайный лес"
   ]
  },
  {
   "cell_type": "code",
   "execution_count": 50,
   "id": "36064058",
   "metadata": {},
   "outputs": [
    {
     "name": "stdout",
     "output_type": "stream",
     "text": [
      "Случайный лес \n",
      "\n",
      "MAE:  6.194855289820241 \n",
      "\n",
      "Параметры модели:  {'n_estimators': 20, 'max_depth': 24} \n",
      "\n"
     ]
    },
    {
     "data": {
      "text/plain": [
       "'Результаты кросс-валидации: '"
      ]
     },
     "metadata": {},
     "output_type": "display_data"
    },
    {
     "data": {
      "text/html": [
       "<div>\n",
       "<style scoped>\n",
       "    .dataframe tbody tr th:only-of-type {\n",
       "        vertical-align: middle;\n",
       "    }\n",
       "\n",
       "    .dataframe tbody tr th {\n",
       "        vertical-align: top;\n",
       "    }\n",
       "\n",
       "    .dataframe thead th {\n",
       "        text-align: right;\n",
       "    }\n",
       "</style>\n",
       "<table border=\"1\" class=\"dataframe\">\n",
       "  <thead>\n",
       "    <tr style=\"text-align: right;\">\n",
       "      <th></th>\n",
       "      <th>mean_fit_time</th>\n",
       "      <th>std_fit_time</th>\n",
       "      <th>mean_score_time</th>\n",
       "      <th>std_score_time</th>\n",
       "      <th>param_n_estimators</th>\n",
       "      <th>param_max_depth</th>\n",
       "      <th>params</th>\n",
       "      <th>split0_test_score</th>\n",
       "      <th>split1_test_score</th>\n",
       "      <th>split2_test_score</th>\n",
       "      <th>split3_test_score</th>\n",
       "      <th>split4_test_score</th>\n",
       "      <th>mean_test_score</th>\n",
       "      <th>std_test_score</th>\n",
       "      <th>rank_test_score</th>\n",
       "    </tr>\n",
       "  </thead>\n",
       "  <tbody>\n",
       "    <tr>\n",
       "      <th>7</th>\n",
       "      <td>0.159967</td>\n",
       "      <td>0.007123</td>\n",
       "      <td>0.004754</td>\n",
       "      <td>0.000135</td>\n",
       "      <td>20</td>\n",
       "      <td>24</td>\n",
       "      <td>{'n_estimators': 20, 'max_depth': 24}</td>\n",
       "      <td>-6.440584</td>\n",
       "      <td>-6.329964</td>\n",
       "      <td>-6.061112</td>\n",
       "      <td>-5.985789</td>\n",
       "      <td>-6.156827</td>\n",
       "      <td>-6.194855</td>\n",
       "      <td>0.168332</td>\n",
       "      <td>1</td>\n",
       "    </tr>\n",
       "    <tr>\n",
       "      <th>4</th>\n",
       "      <td>0.139040</td>\n",
       "      <td>0.002830</td>\n",
       "      <td>0.004574</td>\n",
       "      <td>0.000101</td>\n",
       "      <td>18</td>\n",
       "      <td>18</td>\n",
       "      <td>{'n_estimators': 18, 'max_depth': 18}</td>\n",
       "      <td>-6.504837</td>\n",
       "      <td>-6.253504</td>\n",
       "      <td>-6.063034</td>\n",
       "      <td>-6.005123</td>\n",
       "      <td>-6.155210</td>\n",
       "      <td>-6.196342</td>\n",
       "      <td>0.175763</td>\n",
       "      <td>2</td>\n",
       "    </tr>\n",
       "    <tr>\n",
       "      <th>1</th>\n",
       "      <td>0.075296</td>\n",
       "      <td>0.004804</td>\n",
       "      <td>0.003837</td>\n",
       "      <td>0.000466</td>\n",
       "      <td>12</td>\n",
       "      <td>10</td>\n",
       "      <td>{'n_estimators': 12, 'max_depth': 10}</td>\n",
       "      <td>-6.411713</td>\n",
       "      <td>-6.540918</td>\n",
       "      <td>-6.084200</td>\n",
       "      <td>-6.016941</td>\n",
       "      <td>-6.338892</td>\n",
       "      <td>-6.278533</td>\n",
       "      <td>0.198203</td>\n",
       "      <td>3</td>\n",
       "    </tr>\n",
       "    <tr>\n",
       "      <th>9</th>\n",
       "      <td>0.082056</td>\n",
       "      <td>0.006195</td>\n",
       "      <td>0.003799</td>\n",
       "      <td>0.000342</td>\n",
       "      <td>12</td>\n",
       "      <td>11</td>\n",
       "      <td>{'n_estimators': 12, 'max_depth': 11}</td>\n",
       "      <td>-6.404416</td>\n",
       "      <td>-6.520072</td>\n",
       "      <td>-6.148897</td>\n",
       "      <td>-6.031379</td>\n",
       "      <td>-6.365581</td>\n",
       "      <td>-6.294069</td>\n",
       "      <td>0.178016</td>\n",
       "      <td>4</td>\n",
       "    </tr>\n",
       "    <tr>\n",
       "      <th>5</th>\n",
       "      <td>0.127787</td>\n",
       "      <td>0.006041</td>\n",
       "      <td>0.004346</td>\n",
       "      <td>0.000282</td>\n",
       "      <td>16</td>\n",
       "      <td>19</td>\n",
       "      <td>{'n_estimators': 16, 'max_depth': 19}</td>\n",
       "      <td>-6.559021</td>\n",
       "      <td>-6.362921</td>\n",
       "      <td>-6.155341</td>\n",
       "      <td>-6.105580</td>\n",
       "      <td>-6.295935</td>\n",
       "      <td>-6.295760</td>\n",
       "      <td>0.161061</td>\n",
       "      <td>5</td>\n",
       "    </tr>\n",
       "    <tr>\n",
       "      <th>3</th>\n",
       "      <td>0.106795</td>\n",
       "      <td>0.001930</td>\n",
       "      <td>0.004327</td>\n",
       "      <td>0.000592</td>\n",
       "      <td>14</td>\n",
       "      <td>16</td>\n",
       "      <td>{'n_estimators': 14, 'max_depth': 16}</td>\n",
       "      <td>-6.652713</td>\n",
       "      <td>-6.519512</td>\n",
       "      <td>-6.129872</td>\n",
       "      <td>-6.052317</td>\n",
       "      <td>-6.293199</td>\n",
       "      <td>-6.329523</td>\n",
       "      <td>0.227407</td>\n",
       "      <td>6</td>\n",
       "    </tr>\n",
       "    <tr>\n",
       "      <th>2</th>\n",
       "      <td>0.057246</td>\n",
       "      <td>0.002184</td>\n",
       "      <td>0.003199</td>\n",
       "      <td>0.000294</td>\n",
       "      <td>7</td>\n",
       "      <td>21</td>\n",
       "      <td>{'n_estimators': 7, 'max_depth': 21}</td>\n",
       "      <td>-6.677232</td>\n",
       "      <td>-6.504758</td>\n",
       "      <td>-6.349929</td>\n",
       "      <td>-6.288868</td>\n",
       "      <td>-6.546358</td>\n",
       "      <td>-6.473429</td>\n",
       "      <td>0.139392</td>\n",
       "      <td>7</td>\n",
       "    </tr>\n",
       "    <tr>\n",
       "      <th>8</th>\n",
       "      <td>0.068546</td>\n",
       "      <td>0.002415</td>\n",
       "      <td>0.003255</td>\n",
       "      <td>0.000120</td>\n",
       "      <td>9</td>\n",
       "      <td>16</td>\n",
       "      <td>{'n_estimators': 9, 'max_depth': 16}</td>\n",
       "      <td>-6.794519</td>\n",
       "      <td>-6.613283</td>\n",
       "      <td>-6.229060</td>\n",
       "      <td>-6.214421</td>\n",
       "      <td>-6.532544</td>\n",
       "      <td>-6.476765</td>\n",
       "      <td>0.224899</td>\n",
       "      <td>8</td>\n",
       "    </tr>\n",
       "    <tr>\n",
       "      <th>0</th>\n",
       "      <td>0.028683</td>\n",
       "      <td>0.006749</td>\n",
       "      <td>0.003243</td>\n",
       "      <td>0.000142</td>\n",
       "      <td>4</td>\n",
       "      <td>8</td>\n",
       "      <td>{'n_estimators': 4, 'max_depth': 8}</td>\n",
       "      <td>-6.708904</td>\n",
       "      <td>-6.795828</td>\n",
       "      <td>-6.159873</td>\n",
       "      <td>-6.354671</td>\n",
       "      <td>-6.609011</td>\n",
       "      <td>-6.525657</td>\n",
       "      <td>0.235183</td>\n",
       "      <td>9</td>\n",
       "    </tr>\n",
       "    <tr>\n",
       "      <th>6</th>\n",
       "      <td>0.035180</td>\n",
       "      <td>0.001570</td>\n",
       "      <td>0.002654</td>\n",
       "      <td>0.000230</td>\n",
       "      <td>5</td>\n",
       "      <td>12</td>\n",
       "      <td>{'n_estimators': 5, 'max_depth': 12}</td>\n",
       "      <td>-6.785946</td>\n",
       "      <td>-6.781197</td>\n",
       "      <td>-6.289130</td>\n",
       "      <td>-6.359699</td>\n",
       "      <td>-6.581309</td>\n",
       "      <td>-6.559456</td>\n",
       "      <td>0.206845</td>\n",
       "      <td>10</td>\n",
       "    </tr>\n",
       "  </tbody>\n",
       "</table>\n",
       "</div>"
      ],
      "text/plain": [
       "   mean_fit_time  std_fit_time  mean_score_time  std_score_time  \\\n",
       "7       0.159967      0.007123         0.004754        0.000135   \n",
       "4       0.139040      0.002830         0.004574        0.000101   \n",
       "1       0.075296      0.004804         0.003837        0.000466   \n",
       "9       0.082056      0.006195         0.003799        0.000342   \n",
       "5       0.127787      0.006041         0.004346        0.000282   \n",
       "3       0.106795      0.001930         0.004327        0.000592   \n",
       "2       0.057246      0.002184         0.003199        0.000294   \n",
       "8       0.068546      0.002415         0.003255        0.000120   \n",
       "0       0.028683      0.006749         0.003243        0.000142   \n",
       "6       0.035180      0.001570         0.002654        0.000230   \n",
       "\n",
       "  param_n_estimators param_max_depth                                 params  \\\n",
       "7                 20              24  {'n_estimators': 20, 'max_depth': 24}   \n",
       "4                 18              18  {'n_estimators': 18, 'max_depth': 18}   \n",
       "1                 12              10  {'n_estimators': 12, 'max_depth': 10}   \n",
       "9                 12              11  {'n_estimators': 12, 'max_depth': 11}   \n",
       "5                 16              19  {'n_estimators': 16, 'max_depth': 19}   \n",
       "3                 14              16  {'n_estimators': 14, 'max_depth': 16}   \n",
       "2                  7              21   {'n_estimators': 7, 'max_depth': 21}   \n",
       "8                  9              16   {'n_estimators': 9, 'max_depth': 16}   \n",
       "0                  4               8    {'n_estimators': 4, 'max_depth': 8}   \n",
       "6                  5              12   {'n_estimators': 5, 'max_depth': 12}   \n",
       "\n",
       "   split0_test_score  split1_test_score  split2_test_score  split3_test_score  \\\n",
       "7          -6.440584          -6.329964          -6.061112          -5.985789   \n",
       "4          -6.504837          -6.253504          -6.063034          -6.005123   \n",
       "1          -6.411713          -6.540918          -6.084200          -6.016941   \n",
       "9          -6.404416          -6.520072          -6.148897          -6.031379   \n",
       "5          -6.559021          -6.362921          -6.155341          -6.105580   \n",
       "3          -6.652713          -6.519512          -6.129872          -6.052317   \n",
       "2          -6.677232          -6.504758          -6.349929          -6.288868   \n",
       "8          -6.794519          -6.613283          -6.229060          -6.214421   \n",
       "0          -6.708904          -6.795828          -6.159873          -6.354671   \n",
       "6          -6.785946          -6.781197          -6.289130          -6.359699   \n",
       "\n",
       "   split4_test_score  mean_test_score  std_test_score  rank_test_score  \n",
       "7          -6.156827        -6.194855        0.168332                1  \n",
       "4          -6.155210        -6.196342        0.175763                2  \n",
       "1          -6.338892        -6.278533        0.198203                3  \n",
       "9          -6.365581        -6.294069        0.178016                4  \n",
       "5          -6.295935        -6.295760        0.161061                5  \n",
       "3          -6.293199        -6.329523        0.227407                6  \n",
       "2          -6.546358        -6.473429        0.139392                7  \n",
       "8          -6.532544        -6.476765        0.224899                8  \n",
       "0          -6.609011        -6.525657        0.235183                9  \n",
       "6          -6.581309        -6.559456        0.206845               10  "
      ]
     },
     "metadata": {},
     "output_type": "display_data"
    },
    {
     "name": "stdout",
     "output_type": "stream",
     "text": [
      "CPU times: user 4.75 s, sys: 91.1 ms, total: 4.84 s\n",
      "Wall time: 4.97 s\n"
     ]
    }
   ],
   "source": [
    "%%time\n",
    "\n",
    "model = RandomForestRegressor(random_state=171022) # создаём модель\n",
    "params={'max_depth':range(1,26), \n",
    "        'n_estimators':range(1,21)} # задаём параметры\n",
    "model_adjuster(features_train, target_train, model, params, 'Случайный лес') # запускаем функцию model_adjuster"
   ]
  },
  {
   "cell_type": "markdown",
   "id": "d20dd37d",
   "metadata": {},
   "source": [
    "### CatBoost"
   ]
  },
  {
   "cell_type": "code",
   "execution_count": 51,
   "id": "8b4e81e0",
   "metadata": {},
   "outputs": [
    {
     "name": "stdout",
     "output_type": "stream",
     "text": [
      "CatBoost \n",
      "\n",
      "MAE:  5.884891875167668 \n",
      "\n",
      "Параметры модели:  {'learning_rate': 0.03, 'l2_leaf_reg': 6, 'iterations': 1000, 'grow_policy': 'Lossguide', 'depth': 19} \n",
      "\n"
     ]
    },
    {
     "data": {
      "text/plain": [
       "'Результаты кросс-валидации: '"
      ]
     },
     "metadata": {},
     "output_type": "display_data"
    },
    {
     "data": {
      "text/html": [
       "<div>\n",
       "<style scoped>\n",
       "    .dataframe tbody tr th:only-of-type {\n",
       "        vertical-align: middle;\n",
       "    }\n",
       "\n",
       "    .dataframe tbody tr th {\n",
       "        vertical-align: top;\n",
       "    }\n",
       "\n",
       "    .dataframe thead th {\n",
       "        text-align: right;\n",
       "    }\n",
       "</style>\n",
       "<table border=\"1\" class=\"dataframe\">\n",
       "  <thead>\n",
       "    <tr style=\"text-align: right;\">\n",
       "      <th></th>\n",
       "      <th>mean_fit_time</th>\n",
       "      <th>std_fit_time</th>\n",
       "      <th>mean_score_time</th>\n",
       "      <th>std_score_time</th>\n",
       "      <th>param_learning_rate</th>\n",
       "      <th>param_l2_leaf_reg</th>\n",
       "      <th>param_iterations</th>\n",
       "      <th>param_grow_policy</th>\n",
       "      <th>param_depth</th>\n",
       "      <th>params</th>\n",
       "      <th>split0_test_score</th>\n",
       "      <th>split1_test_score</th>\n",
       "      <th>split2_test_score</th>\n",
       "      <th>split3_test_score</th>\n",
       "      <th>split4_test_score</th>\n",
       "      <th>mean_test_score</th>\n",
       "      <th>std_test_score</th>\n",
       "      <th>rank_test_score</th>\n",
       "    </tr>\n",
       "  </thead>\n",
       "  <tbody>\n",
       "    <tr>\n",
       "      <th>6</th>\n",
       "      <td>10.987724</td>\n",
       "      <td>0.512985</td>\n",
       "      <td>0.013849</td>\n",
       "      <td>0.000323</td>\n",
       "      <td>0.03</td>\n",
       "      <td>6</td>\n",
       "      <td>1000</td>\n",
       "      <td>Lossguide</td>\n",
       "      <td>19</td>\n",
       "      <td>{'learning_rate': 0.03, 'l2_leaf_reg': 6, 'ite...</td>\n",
       "      <td>-5.874793</td>\n",
       "      <td>-6.072293</td>\n",
       "      <td>-5.892044</td>\n",
       "      <td>-5.692744</td>\n",
       "      <td>-5.892586</td>\n",
       "      <td>-5.884892</td>\n",
       "      <td>0.120210</td>\n",
       "      <td>1</td>\n",
       "    </tr>\n",
       "    <tr>\n",
       "      <th>9</th>\n",
       "      <td>11.407069</td>\n",
       "      <td>0.219276</td>\n",
       "      <td>0.014225</td>\n",
       "      <td>0.000801</td>\n",
       "      <td>0.03</td>\n",
       "      <td>10</td>\n",
       "      <td>1000</td>\n",
       "      <td>Lossguide</td>\n",
       "      <td>28</td>\n",
       "      <td>{'learning_rate': 0.03, 'l2_leaf_reg': 10, 'it...</td>\n",
       "      <td>-5.872768</td>\n",
       "      <td>-6.121271</td>\n",
       "      <td>-5.975134</td>\n",
       "      <td>-5.681049</td>\n",
       "      <td>-5.943112</td>\n",
       "      <td>-5.918667</td>\n",
       "      <td>0.143808</td>\n",
       "      <td>2</td>\n",
       "    </tr>\n",
       "    <tr>\n",
       "      <th>8</th>\n",
       "      <td>5.948606</td>\n",
       "      <td>0.065568</td>\n",
       "      <td>0.009413</td>\n",
       "      <td>0.000633</td>\n",
       "      <td>0.2</td>\n",
       "      <td>3</td>\n",
       "      <td>500</td>\n",
       "      <td>Lossguide</td>\n",
       "      <td>23</td>\n",
       "      <td>{'learning_rate': 0.2, 'l2_leaf_reg': 3, 'iter...</td>\n",
       "      <td>-5.943630</td>\n",
       "      <td>-6.270049</td>\n",
       "      <td>-6.053204</td>\n",
       "      <td>-5.836412</td>\n",
       "      <td>-6.036427</td>\n",
       "      <td>-6.027944</td>\n",
       "      <td>0.143609</td>\n",
       "      <td>3</td>\n",
       "    </tr>\n",
       "    <tr>\n",
       "      <th>3</th>\n",
       "      <td>32.682590</td>\n",
       "      <td>1.433177</td>\n",
       "      <td>0.009315</td>\n",
       "      <td>0.000689</td>\n",
       "      <td>0.03</td>\n",
       "      <td>3</td>\n",
       "      <td>500</td>\n",
       "      <td>Depthwise</td>\n",
       "      <td>11</td>\n",
       "      <td>{'learning_rate': 0.03, 'l2_leaf_reg': 3, 'ite...</td>\n",
       "      <td>-6.094234</td>\n",
       "      <td>-6.128317</td>\n",
       "      <td>-6.097128</td>\n",
       "      <td>-6.011108</td>\n",
       "      <td>-6.147845</td>\n",
       "      <td>-6.095726</td>\n",
       "      <td>0.046782</td>\n",
       "      <td>4</td>\n",
       "    </tr>\n",
       "    <tr>\n",
       "      <th>4</th>\n",
       "      <td>5.304553</td>\n",
       "      <td>0.128368</td>\n",
       "      <td>0.007654</td>\n",
       "      <td>0.000685</td>\n",
       "      <td>0.001</td>\n",
       "      <td>6</td>\n",
       "      <td>500</td>\n",
       "      <td>Lossguide</td>\n",
       "      <td>34</td>\n",
       "      <td>{'learning_rate': 0.001, 'l2_leaf_reg': 6, 'it...</td>\n",
       "      <td>-7.681219</td>\n",
       "      <td>-7.463709</td>\n",
       "      <td>-7.171852</td>\n",
       "      <td>-7.485529</td>\n",
       "      <td>-7.903682</td>\n",
       "      <td>-7.541198</td>\n",
       "      <td>0.243524</td>\n",
       "      <td>5</td>\n",
       "    </tr>\n",
       "    <tr>\n",
       "      <th>0</th>\n",
       "      <td>0.006122</td>\n",
       "      <td>0.005463</td>\n",
       "      <td>0.000000</td>\n",
       "      <td>0.000000</td>\n",
       "      <td>0.03</td>\n",
       "      <td>10</td>\n",
       "      <td>500</td>\n",
       "      <td>Depthwise</td>\n",
       "      <td>17</td>\n",
       "      <td>{'learning_rate': 0.03, 'l2_leaf_reg': 10, 'it...</td>\n",
       "      <td>NaN</td>\n",
       "      <td>NaN</td>\n",
       "      <td>NaN</td>\n",
       "      <td>NaN</td>\n",
       "      <td>NaN</td>\n",
       "      <td>NaN</td>\n",
       "      <td>NaN</td>\n",
       "      <td>6</td>\n",
       "    </tr>\n",
       "    <tr>\n",
       "      <th>1</th>\n",
       "      <td>0.003744</td>\n",
       "      <td>0.000391</td>\n",
       "      <td>0.000000</td>\n",
       "      <td>0.000000</td>\n",
       "      <td>0.001</td>\n",
       "      <td>5</td>\n",
       "      <td>500</td>\n",
       "      <td>SymmetricTree</td>\n",
       "      <td>35</td>\n",
       "      <td>{'learning_rate': 0.001, 'l2_leaf_reg': 5, 'it...</td>\n",
       "      <td>NaN</td>\n",
       "      <td>NaN</td>\n",
       "      <td>NaN</td>\n",
       "      <td>NaN</td>\n",
       "      <td>NaN</td>\n",
       "      <td>NaN</td>\n",
       "      <td>NaN</td>\n",
       "      <td>7</td>\n",
       "    </tr>\n",
       "    <tr>\n",
       "      <th>2</th>\n",
       "      <td>0.003349</td>\n",
       "      <td>0.000248</td>\n",
       "      <td>0.000000</td>\n",
       "      <td>0.000000</td>\n",
       "      <td>0.03</td>\n",
       "      <td>5</td>\n",
       "      <td>1000</td>\n",
       "      <td>Depthwise</td>\n",
       "      <td>24</td>\n",
       "      <td>{'learning_rate': 0.03, 'l2_leaf_reg': 5, 'ite...</td>\n",
       "      <td>NaN</td>\n",
       "      <td>NaN</td>\n",
       "      <td>NaN</td>\n",
       "      <td>NaN</td>\n",
       "      <td>NaN</td>\n",
       "      <td>NaN</td>\n",
       "      <td>NaN</td>\n",
       "      <td>8</td>\n",
       "    </tr>\n",
       "    <tr>\n",
       "      <th>5</th>\n",
       "      <td>0.003969</td>\n",
       "      <td>0.000696</td>\n",
       "      <td>0.000000</td>\n",
       "      <td>0.000000</td>\n",
       "      <td>0.01</td>\n",
       "      <td>6</td>\n",
       "      <td>100</td>\n",
       "      <td>SymmetricTree</td>\n",
       "      <td>31</td>\n",
       "      <td>{'learning_rate': 0.01, 'l2_leaf_reg': 6, 'ite...</td>\n",
       "      <td>NaN</td>\n",
       "      <td>NaN</td>\n",
       "      <td>NaN</td>\n",
       "      <td>NaN</td>\n",
       "      <td>NaN</td>\n",
       "      <td>NaN</td>\n",
       "      <td>NaN</td>\n",
       "      <td>9</td>\n",
       "    </tr>\n",
       "    <tr>\n",
       "      <th>7</th>\n",
       "      <td>0.003611</td>\n",
       "      <td>0.000269</td>\n",
       "      <td>0.000000</td>\n",
       "      <td>0.000000</td>\n",
       "      <td>0.2</td>\n",
       "      <td>4</td>\n",
       "      <td>100</td>\n",
       "      <td>SymmetricTree</td>\n",
       "      <td>24</td>\n",
       "      <td>{'learning_rate': 0.2, 'l2_leaf_reg': 4, 'iter...</td>\n",
       "      <td>NaN</td>\n",
       "      <td>NaN</td>\n",
       "      <td>NaN</td>\n",
       "      <td>NaN</td>\n",
       "      <td>NaN</td>\n",
       "      <td>NaN</td>\n",
       "      <td>NaN</td>\n",
       "      <td>10</td>\n",
       "    </tr>\n",
       "  </tbody>\n",
       "</table>\n",
       "</div>"
      ],
      "text/plain": [
       "   mean_fit_time  std_fit_time  mean_score_time  std_score_time  \\\n",
       "6      10.987724      0.512985         0.013849        0.000323   \n",
       "9      11.407069      0.219276         0.014225        0.000801   \n",
       "8       5.948606      0.065568         0.009413        0.000633   \n",
       "3      32.682590      1.433177         0.009315        0.000689   \n",
       "4       5.304553      0.128368         0.007654        0.000685   \n",
       "0       0.006122      0.005463         0.000000        0.000000   \n",
       "1       0.003744      0.000391         0.000000        0.000000   \n",
       "2       0.003349      0.000248         0.000000        0.000000   \n",
       "5       0.003969      0.000696         0.000000        0.000000   \n",
       "7       0.003611      0.000269         0.000000        0.000000   \n",
       "\n",
       "  param_learning_rate param_l2_leaf_reg param_iterations param_grow_policy  \\\n",
       "6                0.03                 6             1000         Lossguide   \n",
       "9                0.03                10             1000         Lossguide   \n",
       "8                 0.2                 3              500         Lossguide   \n",
       "3                0.03                 3              500         Depthwise   \n",
       "4               0.001                 6              500         Lossguide   \n",
       "0                0.03                10              500         Depthwise   \n",
       "1               0.001                 5              500     SymmetricTree   \n",
       "2                0.03                 5             1000         Depthwise   \n",
       "5                0.01                 6              100     SymmetricTree   \n",
       "7                 0.2                 4              100     SymmetricTree   \n",
       "\n",
       "  param_depth                                             params  \\\n",
       "6          19  {'learning_rate': 0.03, 'l2_leaf_reg': 6, 'ite...   \n",
       "9          28  {'learning_rate': 0.03, 'l2_leaf_reg': 10, 'it...   \n",
       "8          23  {'learning_rate': 0.2, 'l2_leaf_reg': 3, 'iter...   \n",
       "3          11  {'learning_rate': 0.03, 'l2_leaf_reg': 3, 'ite...   \n",
       "4          34  {'learning_rate': 0.001, 'l2_leaf_reg': 6, 'it...   \n",
       "0          17  {'learning_rate': 0.03, 'l2_leaf_reg': 10, 'it...   \n",
       "1          35  {'learning_rate': 0.001, 'l2_leaf_reg': 5, 'it...   \n",
       "2          24  {'learning_rate': 0.03, 'l2_leaf_reg': 5, 'ite...   \n",
       "5          31  {'learning_rate': 0.01, 'l2_leaf_reg': 6, 'ite...   \n",
       "7          24  {'learning_rate': 0.2, 'l2_leaf_reg': 4, 'iter...   \n",
       "\n",
       "   split0_test_score  split1_test_score  split2_test_score  split3_test_score  \\\n",
       "6          -5.874793          -6.072293          -5.892044          -5.692744   \n",
       "9          -5.872768          -6.121271          -5.975134          -5.681049   \n",
       "8          -5.943630          -6.270049          -6.053204          -5.836412   \n",
       "3          -6.094234          -6.128317          -6.097128          -6.011108   \n",
       "4          -7.681219          -7.463709          -7.171852          -7.485529   \n",
       "0                NaN                NaN                NaN                NaN   \n",
       "1                NaN                NaN                NaN                NaN   \n",
       "2                NaN                NaN                NaN                NaN   \n",
       "5                NaN                NaN                NaN                NaN   \n",
       "7                NaN                NaN                NaN                NaN   \n",
       "\n",
       "   split4_test_score  mean_test_score  std_test_score  rank_test_score  \n",
       "6          -5.892586        -5.884892        0.120210                1  \n",
       "9          -5.943112        -5.918667        0.143808                2  \n",
       "8          -6.036427        -6.027944        0.143609                3  \n",
       "3          -6.147845        -6.095726        0.046782                4  \n",
       "4          -7.903682        -7.541198        0.243524                5  \n",
       "0                NaN              NaN             NaN                6  \n",
       "1                NaN              NaN             NaN                7  \n",
       "2                NaN              NaN             NaN                8  \n",
       "5                NaN              NaN             NaN                9  \n",
       "7                NaN              NaN             NaN               10  "
      ]
     },
     "metadata": {},
     "output_type": "display_data"
    },
    {
     "name": "stdout",
     "output_type": "stream",
     "text": [
      "CPU times: user 5min 17s, sys: 2.41 s, total: 5min 19s\n",
      "Wall time: 5min 45s\n"
     ]
    }
   ],
   "source": [
    "%%time\n",
    "\n",
    "model = CatBoostRegressor(loss_function='MAE', verbose=False, random_state = 171022) # создаём модель\n",
    "\n",
    "params = {'grow_policy': ['SymmetricTree', 'Depthwise', 'Lossguide'],\n",
    "          'learning_rate':[0.001, 0.01, 0.03, 0.1, 0.2],\n",
    "          'depth':range (10,36), \n",
    "          'iterations':[100, 250, 500, 1000],\n",
    "          'l2_leaf_reg':[1, 3, 4, 5, 6, 10]} # задаём параметры\n",
    "\n",
    "model_adjuster(features_train, target_train, model, params, 'CatBoost') # запускаем функцию model_adjuster"
   ]
  },
  {
   "cell_type": "markdown",
   "id": "ff2cd695",
   "metadata": {},
   "source": [
    "### LightGBM"
   ]
  },
  {
   "cell_type": "code",
   "execution_count": null,
   "id": "3e0c4960",
   "metadata": {},
   "outputs": [],
   "source": [
    "%%time\n",
    "\n",
    "model = ltb.LGBMRegressor(metric='mae', verbose=-1, random_state = 171022) # создаём модель\n",
    "\n",
    "params = {'boosting_type':['gbdt', 'dart', 'goss'],\n",
    "          'learning_rate':[0.001, 0.01, 0.03, 0.1, 0.2],\n",
    "          'max_depth':range(1,26),\n",
    "          'n_estimators':[100, 250, 500, 1000],\n",
    "          'num_leaves':range(1,51)} # задаём параметры\n",
    "\n",
    "model_adjuster(features_train, target_train, model, params, 'LightGBM') # запускаем функцию model_adjuster"
   ]
  },
  {
   "cell_type": "markdown",
   "id": "7aa11bc3",
   "metadata": {},
   "source": [
    "### XGBoost"
   ]
  },
  {
   "cell_type": "code",
   "execution_count": null,
   "id": "c4593fe9",
   "metadata": {},
   "outputs": [],
   "source": [
    "%%time\n",
    "\n",
    "model=xgb.XGBRegressor(verbosity=0, random_state = 171022) # создаём модель\n",
    "\n",
    "params = {'booster':['gbtree', 'dart'],\n",
    "          'eta':[0.001, 0.01, 0.03, 0.1, 0.2],\n",
    "          'max_depth':range(1,21), \n",
    "          'n_estimators':[100, 250, 500, 1000]} # задаём параметры    \n",
    "\n",
    "model_adjuster(features_train, target_train, model, params, 'XGBoost') # запускаем функцию model_adjuster"
   ]
  },
  {
   "cell_type": "markdown",
   "id": "ec4e3312",
   "metadata": {},
   "source": [
    "Лучше всего себя показала модель CatBoost. Выберем её для тестирования."
   ]
  },
  {
   "cell_type": "markdown",
   "id": "90d4a716",
   "metadata": {},
   "source": [
    "### Основные выводы этапа 3"
   ]
  },
  {
   "cell_type": "markdown",
   "id": "ab6a15c5",
   "metadata": {},
   "source": [
    "- Подбор модели показал, что лучше всего с этой задачей справляются модели с градиентным бустингом\n",
    "- Лучшая модель:  CatBoost с политикой роста Lossguide, 1000 итераций, глубиной дерева 28, скоростью обучения 0.03, коэффициент при члене регуляризации L2 функции потерь 10\n",
    "- Её MAE при кросс-валидации составила 5.88"
   ]
  },
  {
   "cell_type": "markdown",
   "id": "37a3476f",
   "metadata": {},
   "source": [
    "## Этап 4. Тестирование модели"
   ]
  },
  {
   "cell_type": "code",
   "execution_count": null,
   "id": "50f85195",
   "metadata": {},
   "outputs": [],
   "source": [
    "# открываем нашу модель\n",
    "model = joblib.load('CatBoost')\n",
    "# обучаем модель на всей тренировочной выборке\n",
    "model.fit(features_train, target_train)\n",
    "# делаем предсказание для тестовых данных\n",
    "predictions = model.predict(features_test)\n",
    "# находим и выводим mae\n",
    "mae = (mean_absolute_error(predictions, target_test))\n",
    "print('MAE: ', mae)"
   ]
  },
  {
   "cell_type": "markdown",
   "id": "e0d5acc5",
   "metadata": {},
   "source": [
    "Сравним нашу модель с константной моделью, которая будет выдавать медиану в качестве прогноза."
   ]
  },
  {
   "cell_type": "code",
   "execution_count": null,
   "id": "c84d4649",
   "metadata": {},
   "outputs": [],
   "source": [
    "# создаём dummy-regressor\n",
    "dummy_regressor = DummyRegressor(strategy='median')\n",
    "# обучаем модель на всей тренировочной выборке\n",
    "dummy_regressor.fit(features_train, target_train)\n",
    "# делаем предсказание для тестовых данных\n",
    "predictions = dummy_regressor.predict(features_test)\n",
    "# находим и выводим mae\n",
    "mae = (mean_absolute_error(predictions, target_test))\n",
    "print('MAE: ', mae)"
   ]
  },
  {
   "cell_type": "markdown",
   "id": "e39d2c0e",
   "metadata": {},
   "source": [
    "Наша модель определённо лучше константной."
   ]
  },
  {
   "cell_type": "markdown",
   "id": "dc87b6a0",
   "metadata": {},
   "source": [
    "### Основные выводы этапа 4"
   ]
  },
  {
   "cell_type": "markdown",
   "id": "6edc715a",
   "metadata": {},
   "source": [
    "- MAE на тестовой выборке составил 5.83\n",
    "- Мы видим очень небольшое переобучение\n",
    "- Подобранная модель работает значительно лучше константной"
   ]
  },
  {
   "cell_type": "markdown",
   "id": "29a85a6f",
   "metadata": {},
   "source": [
    "## Этап 5. Анализ важности признаков"
   ]
  },
  {
   "cell_type": "markdown",
   "id": "6c1ca23f",
   "metadata": {},
   "source": [
    "Теперь проанализируем важность признаков нашей лучшей модели."
   ]
  },
  {
   "cell_type": "code",
   "execution_count": null,
   "id": "24d0536e",
   "metadata": {},
   "outputs": [],
   "source": [
    "# строим диаграмму важности признаков модели CatBoost\n",
    "feature_importance = model.feature_importances_\n",
    "sorted_idx = np.argsort(feature_importance)\n",
    "fig = plt.figure(figsize=(12, 6))\n",
    "plt.barh(range(len(sorted_idx)), feature_importance[sorted_idx], align='center')\n",
    "plt.yticks(range(len(sorted_idx)), np.array(features_test.columns)[sorted_idx])\n",
    "plt.title('Важность признаков')\n",
    "plt.show()\n"
   ]
  },
  {
   "cell_type": "markdown",
   "id": "342f0c88",
   "metadata": {},
   "source": [
    "Из диаграммы следует, что, по мнению модели, ниболее важные признаки - переданная энергия, начальная температура и объём добавки Wire 1 . Построим зависимости конечной температуры от этих признаков. Масштаб оси x выберем так, чтобы видеть основную часть точек достаточно крупно."
   ]
  },
  {
   "cell_type": "code",
   "execution_count": null,
   "id": "5b4f6ea4",
   "metadata": {},
   "outputs": [],
   "source": [
    "# зависимость конечной температуры процесса от объёма Wire 1\n",
    "data_overall.plot(x='Wire 1', y='Конечная температура', kind='scatter', alpha=0.05,  figsize=(5, 5), grid=False)\n",
    "plt.title('Зависимость конечной температуры процесса от объёма добавки Wire 1 \\n')\n",
    "plt.xlabel('Wire 1, объём')\n",
    "plt.ylabel('Конечная температура')\n",
    "plt.show()"
   ]
  },
  {
   "cell_type": "code",
   "execution_count": null,
   "id": "c8849fc2",
   "metadata": {},
   "outputs": [],
   "source": [
    "# зависимость конечной температуры процесса от начальной\n",
    "data_overall.plot(x='Начальная температура', y='Конечная температура', kind='scatter', alpha=0.05,  figsize=(5, 5), grid=False)\n",
    "plt.title('Зависимость конечной температуры процесса от начальной \\n')\n",
    "plt.xlabel('Начальная температура')\n",
    "plt.ylabel('Конечная температура')\n",
    "plt.xlim(1500, 1700)\n",
    "plt.show()"
   ]
  },
  {
   "cell_type": "code",
   "execution_count": null,
   "id": "ef42e98b",
   "metadata": {
    "scrolled": true
   },
   "outputs": [],
   "source": [
    "# зависимость конечной температуры процесса от переданной энергии\n",
    "data_overall.plot(x='Переданная энергия', y='Конечная температура', kind='scatter', alpha=0.05,  figsize=(5, 5), grid=False)\n",
    "plt.title('Зависимость конечной температуры процесса от переданной энергии \\n')\n",
    "plt.xlabel('Переданная энергия')\n",
    "plt.ylabel('Конечная температура')\n",
    "plt.xlim(0, 10)\n",
    "plt.show()"
   ]
  },
  {
   "cell_type": "markdown",
   "id": "86eaac51",
   "metadata": {},
   "source": [
    "Очевидной связи величин с целевым признаком на графиках не прослеживается, хотя можно заметить, что в случаях ненулевых объёмов добавления Wire 1 конечная температура всегда была строго выше 1560 градусов."
   ]
  },
  {
   "cell_type": "markdown",
   "id": "9764d6b5",
   "metadata": {},
   "source": [
    "### Основные выводы этапа 5"
   ]
  },
  {
   "cell_type": "markdown",
   "id": "963bf96d",
   "metadata": {},
   "source": [
    "- Три наиболее важных признака, по мнению модели CatBoost. Именно у этих признаков мы видели самые высокие коэффициенты корреляции, однако на диаграммах рассеяния их взаимосвязь с целевым признаком не очевидна"
   ]
  },
  {
   "cell_type": "markdown",
   "id": "318c617f",
   "metadata": {},
   "source": [
    "## Отчёт"
   ]
  },
  {
   "cell_type": "markdown",
   "id": "efbd0df6",
   "metadata": {},
   "source": [
    "<br>1. Были выполнены все пункты плана. Отдельно остановимся на предобработке и подготовке признаков:\n",
    "- Была найдена суммарная активная мощность для каждого процесса\n",
    "- Было найдено число циклов нагрева для каждого процесса\n",
    "- Из таблицы с данными о температуре были извлечены начальная и конечная температуры, конечная температура была не у всех процессов, пришлось избавиться примерно от 23% процессов в этой таблице\n",
    "- Были использованы данные об объёмах всех добавок (кроме Bulk 9) и продуваемого газа. Пропуски в данных об объёмах добавок были заполнены нулями.\n",
    "- Данные соединены попринципу пересечения ключей - в конечной таблице присутствуют лишь те процессы, информация о которых есть в каждой из таблиц. \n",
    "\n",
    "Данные о времени и длительности нагрева и внесении добавок, величине реактивной мощности не были использованы.\n",
    "Данные о времени измерения температуры были использованы только для того, чтобы понять, какая температура начальная, какая конечная. \n",
    "\n",
    "Изначально на этапе подготовки признаков планировалось масштабирование, но оказалось, что оно негативно сказывается на скорости подбора гиперпараметров и метрике. Поэтому я иключила этот пункт. Пункт с анализом и устранением мультиколлинеарности - наоборот - был добавлен в план, был исключен признак Bulk 9, сильно коррелировавший с признаком Wire 8.\n",
    "\n",
    "<br>2. Основная трудность была в поиске \"подводных камней\", ухудшающих качество прогноза. \n",
    "   - У части процессов в таблице с данными об измерении температуры отсутствовала конечная температура (целевой признак)\n",
    "   - Наличие мультиколлинеарности. Сильная корреляция между признаками Bulk 9 и Wire 8\n",
    "   \n",
    "<br>3. Этапы плана и были ключевыми шагами работы. Плюс работа с \"подводными камнями\", перечисленными в предыдущем пункте.\n",
    "\n",
    "<br>4. Итоговая модель - CatBoost (политика роста Lossguide, 1000 итераций, глубина деревьев 28, скорость обучения 0.03, коэффициент при члене регуляризации L2 функции потерь 10), random_state 171022. MAE на обучающей выборке - 5.88, MAE на тестовой выборке - 5.83.\n",
    "Модель использовала следующие признаки:\n",
    "- Суммарная активная мощность для каждого процесса (она же переданная энергия)\n",
    "- Число циклов нагрева\n",
    "- Начальная температура\n",
    "- Конечная теммпература (целевой признак)\n",
    "- Объём каждой из сыпучих добавок (Bulk 1-8 и 10-15)\n",
    "- Объём проволочных добавок (Wire 1-9)\n",
    "- Объём пропущенного газа\n",
    "\n",
    "Значимые признаки для модели и их коэффициенты значимости:\n",
    "- Переданная энергия 23.5\n",
    "- Начальная температура 21.0\n",
    "- Wire 1 9.5\n",
    "- Bulk 6 6.6\n",
    "- Wire 2 6.0\n",
    "- Bulk 12 5.2\n",
    "- Газ 1 4.7\n",
    "- Bulk 15 4.0\n",
    "- Bulk 14 3.9\n",
    "- Число циклов 2.4\n",
    "- Bulk 3 2.1\n",
    "- Bulk 1 2.0\n",
    "- Bulk 4 2.0\n",
    "- Bulk 7 1.8\n",
    "- Wire 6 1.5\n",
    "- Wire 3 1.1\n",
    "- Bulk 11 0.9\n",
    "- Bulk 5 0.6\n",
    "- Bulk 10 0.5\n",
    "- Wire 7 0.3\n",
    "- Wire 4 0.3\n",
    "- Bulk 13 0.1"
   ]
  }
 ],
 "metadata": {
  "ExecuteTimeLog": [
   {
    "duration": 572,
    "start_time": "2022-10-21T06:27:59.472Z"
   },
   {
    "duration": 151,
    "start_time": "2022-10-21T06:28:00.046Z"
   },
   {
    "duration": 3,
    "start_time": "2022-10-21T06:28:00.199Z"
   },
   {
    "duration": 23,
    "start_time": "2022-10-21T06:28:00.203Z"
   },
   {
    "duration": 9,
    "start_time": "2022-10-21T06:28:00.229Z"
   },
   {
    "duration": 27,
    "start_time": "2022-10-21T06:28:00.240Z"
   },
   {
    "duration": 1211,
    "start_time": "2022-10-21T06:28:00.268Z"
   },
   {
    "duration": 2250,
    "start_time": "2022-10-21T06:28:01.480Z"
   },
   {
    "duration": 7,
    "start_time": "2022-10-21T06:28:03.732Z"
   },
   {
    "duration": 2349,
    "start_time": "2022-10-21T06:28:03.741Z"
   },
   {
    "duration": 248,
    "start_time": "2022-10-21T06:28:06.092Z"
   },
   {
    "duration": 17,
    "start_time": "2022-10-21T06:28:06.341Z"
   },
   {
    "duration": 239,
    "start_time": "2022-10-21T06:28:06.359Z"
   },
   {
    "duration": 8,
    "start_time": "2022-10-21T06:28:06.601Z"
   },
   {
    "duration": 220,
    "start_time": "2022-10-21T06:28:06.610Z"
   },
   {
    "duration": 7,
    "start_time": "2022-10-21T06:28:06.832Z"
   },
   {
    "duration": 7,
    "start_time": "2022-10-21T06:28:06.841Z"
   },
   {
    "duration": 18,
    "start_time": "2022-10-21T06:28:06.849Z"
   },
   {
    "duration": 4,
    "start_time": "2022-10-21T06:28:06.868Z"
   },
   {
    "duration": 3397,
    "start_time": "2022-10-21T06:28:06.873Z"
   },
   {
    "duration": 15,
    "start_time": "2022-10-21T06:28:10.272Z"
   },
   {
    "duration": 36,
    "start_time": "2022-10-21T06:28:10.289Z"
   },
   {
    "duration": 12,
    "start_time": "2022-10-21T06:28:10.327Z"
   },
   {
    "duration": 4,
    "start_time": "2022-10-21T06:28:10.340Z"
   },
   {
    "duration": 2004,
    "start_time": "2022-10-21T06:28:10.346Z"
   },
   {
    "duration": 14,
    "start_time": "2022-10-21T06:28:12.352Z"
   },
   {
    "duration": 17,
    "start_time": "2022-10-21T06:28:12.367Z"
   },
   {
    "duration": 29,
    "start_time": "2022-10-21T06:28:12.386Z"
   },
   {
    "duration": 14,
    "start_time": "2022-10-21T06:28:12.416Z"
   },
   {
    "duration": 223,
    "start_time": "2022-10-21T06:28:12.431Z"
   },
   {
    "duration": 12,
    "start_time": "2022-10-21T06:28:12.656Z"
   },
   {
    "duration": 8,
    "start_time": "2022-10-21T06:28:12.669Z"
   },
   {
    "duration": 271,
    "start_time": "2022-10-21T06:28:12.678Z"
   },
   {
    "duration": 22,
    "start_time": "2022-10-21T06:28:12.951Z"
   },
   {
    "duration": 151,
    "start_time": "2022-10-21T06:28:12.975Z"
   },
   {
    "duration": 24,
    "start_time": "2022-10-21T06:28:13.128Z"
   },
   {
    "duration": 13,
    "start_time": "2022-10-21T06:28:13.153Z"
   },
   {
    "duration": 42,
    "start_time": "2022-10-21T06:28:13.168Z"
   },
   {
    "duration": 75,
    "start_time": "2022-10-21T06:40:15.095Z"
   },
   {
    "duration": 2101,
    "start_time": "2022-10-25T13:16:24.627Z"
   },
   {
    "duration": 304,
    "start_time": "2022-10-25T13:16:26.730Z"
   },
   {
    "duration": 3,
    "start_time": "2022-10-25T13:16:27.035Z"
   },
   {
    "duration": 7,
    "start_time": "2022-10-25T13:16:27.040Z"
   },
   {
    "duration": 77,
    "start_time": "2022-10-25T13:16:27.049Z"
   },
   {
    "duration": 4,
    "start_time": "2022-10-25T13:16:27.128Z"
   },
   {
    "duration": 19,
    "start_time": "2022-10-25T13:16:27.134Z"
   },
   {
    "duration": 36,
    "start_time": "2022-10-25T13:16:27.155Z"
   },
   {
    "duration": 340,
    "start_time": "2022-10-25T13:16:27.193Z"
   },
   {
    "duration": 433,
    "start_time": "2022-10-25T13:16:27.535Z"
   },
   {
    "duration": 131,
    "start_time": "2022-10-25T13:16:27.978Z"
   },
   {
    "duration": 402,
    "start_time": "2022-10-25T13:16:28.111Z"
   },
   {
    "duration": 23,
    "start_time": "2022-10-25T13:16:28.514Z"
   },
   {
    "duration": 317,
    "start_time": "2022-10-25T13:16:28.540Z"
   },
   {
    "duration": 9,
    "start_time": "2022-10-25T13:16:28.859Z"
   },
   {
    "duration": 342,
    "start_time": "2022-10-25T13:16:28.872Z"
   },
   {
    "duration": 8,
    "start_time": "2022-10-25T13:16:29.216Z"
   },
   {
    "duration": 83,
    "start_time": "2022-10-25T13:16:29.226Z"
   },
   {
    "duration": 4,
    "start_time": "2022-10-25T13:16:29.312Z"
   },
   {
    "duration": 4904,
    "start_time": "2022-10-25T13:16:29.317Z"
   },
   {
    "duration": 50,
    "start_time": "2022-10-25T13:16:34.223Z"
   },
   {
    "duration": 26,
    "start_time": "2022-10-25T13:16:34.285Z"
   },
   {
    "duration": 56,
    "start_time": "2022-10-25T13:16:34.313Z"
   },
   {
    "duration": 9,
    "start_time": "2022-10-25T13:16:34.371Z"
   },
   {
    "duration": 2837,
    "start_time": "2022-10-25T13:16:34.382Z"
   },
   {
    "duration": 52,
    "start_time": "2022-10-25T13:16:37.221Z"
   },
   {
    "duration": 51,
    "start_time": "2022-10-25T13:16:37.276Z"
   },
   {
    "duration": 89,
    "start_time": "2022-10-25T13:16:37.329Z"
   },
   {
    "duration": 29,
    "start_time": "2022-10-25T13:16:37.420Z"
   },
   {
    "duration": 363,
    "start_time": "2022-10-25T13:16:37.450Z"
   },
   {
    "duration": 24,
    "start_time": "2022-10-25T13:16:37.815Z"
   },
   {
    "duration": 32,
    "start_time": "2022-10-25T13:16:37.854Z"
   },
   {
    "duration": 297,
    "start_time": "2022-10-25T13:16:37.890Z"
   },
   {
    "duration": 36,
    "start_time": "2022-10-25T13:16:38.189Z"
   },
   {
    "duration": 51,
    "start_time": "2022-10-25T13:16:38.227Z"
   },
   {
    "duration": 37,
    "start_time": "2022-10-25T13:16:38.284Z"
   },
   {
    "duration": 62,
    "start_time": "2022-10-25T13:16:38.323Z"
   },
   {
    "duration": 612,
    "start_time": "2022-10-25T13:16:38.387Z"
   },
   {
    "duration": 210,
    "start_time": "2022-10-25T13:16:39.001Z"
   },
   {
    "duration": 190,
    "start_time": "2022-10-25T13:16:39.213Z"
   },
   {
    "duration": 16,
    "start_time": "2022-10-25T13:16:39.408Z"
   },
   {
    "duration": 46,
    "start_time": "2022-10-25T13:16:39.426Z"
   },
   {
    "duration": 30,
    "start_time": "2022-10-25T13:16:39.476Z"
   },
   {
    "duration": 13,
    "start_time": "2022-10-25T13:17:40.627Z"
   },
   {
    "duration": 9,
    "start_time": "2022-10-25T13:18:03.337Z"
   },
   {
    "duration": 27,
    "start_time": "2022-10-25T13:18:21.674Z"
   },
   {
    "duration": 15,
    "start_time": "2022-10-25T13:18:54.898Z"
   },
   {
    "duration": 40,
    "start_time": "2022-10-25T13:19:57.086Z"
   },
   {
    "duration": 75,
    "start_time": "2022-10-25T13:21:53.946Z"
   },
   {
    "duration": 5,
    "start_time": "2022-10-25T13:24:10.593Z"
   },
   {
    "duration": 665,
    "start_time": "2022-10-25T13:24:10.602Z"
   },
   {
    "duration": 15,
    "start_time": "2022-10-25T13:24:11.276Z"
   },
   {
    "duration": 29,
    "start_time": "2022-10-25T13:24:11.295Z"
   },
   {
    "duration": 39,
    "start_time": "2022-10-25T13:24:11.327Z"
   },
   {
    "duration": 18,
    "start_time": "2022-10-25T13:24:11.371Z"
   },
   {
    "duration": 32,
    "start_time": "2022-10-25T13:24:11.392Z"
   },
   {
    "duration": 10,
    "start_time": "2022-10-25T13:24:11.427Z"
   },
   {
    "duration": 360,
    "start_time": "2022-10-25T13:24:11.439Z"
   },
   {
    "duration": 329,
    "start_time": "2022-10-25T13:24:11.801Z"
   },
   {
    "duration": 136,
    "start_time": "2022-10-25T13:24:12.132Z"
   },
   {
    "duration": 374,
    "start_time": "2022-10-25T13:24:12.276Z"
   },
   {
    "duration": 37,
    "start_time": "2022-10-25T13:24:12.654Z"
   },
   {
    "duration": 306,
    "start_time": "2022-10-25T13:24:12.699Z"
   },
   {
    "duration": 4,
    "start_time": "2022-10-25T13:24:13.007Z"
   },
   {
    "duration": 470,
    "start_time": "2022-10-25T13:24:13.013Z"
   },
   {
    "duration": 13,
    "start_time": "2022-10-25T13:24:13.486Z"
   },
   {
    "duration": 72,
    "start_time": "2022-10-25T13:24:13.501Z"
   },
   {
    "duration": 12,
    "start_time": "2022-10-25T13:24:13.580Z"
   },
   {
    "duration": 4454,
    "start_time": "2022-10-25T13:24:13.594Z"
   },
   {
    "duration": 36,
    "start_time": "2022-10-25T13:24:18.050Z"
   },
   {
    "duration": 23,
    "start_time": "2022-10-25T13:24:18.087Z"
   },
   {
    "duration": 73,
    "start_time": "2022-10-25T13:24:18.112Z"
   },
   {
    "duration": 6,
    "start_time": "2022-10-25T13:24:18.191Z"
   },
   {
    "duration": 2863,
    "start_time": "2022-10-25T13:24:18.199Z"
   },
   {
    "duration": 33,
    "start_time": "2022-10-25T13:24:21.068Z"
   },
   {
    "duration": 18,
    "start_time": "2022-10-25T13:24:21.103Z"
   },
   {
    "duration": 42,
    "start_time": "2022-10-25T13:24:21.122Z"
   },
   {
    "duration": 41,
    "start_time": "2022-10-25T13:24:21.168Z"
   },
   {
    "duration": 378,
    "start_time": "2022-10-25T13:24:21.211Z"
   },
   {
    "duration": 29,
    "start_time": "2022-10-25T13:24:21.599Z"
   },
   {
    "duration": 20,
    "start_time": "2022-10-25T13:24:21.631Z"
   },
   {
    "duration": 380,
    "start_time": "2022-10-25T13:24:21.653Z"
   },
   {
    "duration": 54,
    "start_time": "2022-10-25T13:24:22.035Z"
   },
   {
    "duration": 28,
    "start_time": "2022-10-25T13:24:22.095Z"
   },
   {
    "duration": 10,
    "start_time": "2022-10-25T13:24:22.125Z"
   },
   {
    "duration": 89,
    "start_time": "2022-10-25T13:24:22.136Z"
   },
   {
    "duration": 681,
    "start_time": "2022-10-25T13:24:22.226Z"
   },
   {
    "duration": 199,
    "start_time": "2022-10-25T13:24:22.909Z"
   },
   {
    "duration": 26,
    "start_time": "2022-10-25T13:24:23.110Z"
   },
   {
    "duration": 24,
    "start_time": "2022-10-25T13:24:23.154Z"
   },
   {
    "duration": 56,
    "start_time": "2022-10-25T13:24:23.180Z"
   },
   {
    "duration": 9,
    "start_time": "2022-10-25T13:24:23.238Z"
   },
   {
    "duration": 46,
    "start_time": "2022-10-25T13:24:23.248Z"
   },
   {
    "duration": 1821,
    "start_time": "2022-10-25T13:24:23.296Z"
   },
   {
    "duration": 6273,
    "start_time": "2022-10-25T13:24:25.119Z"
   },
   {
    "duration": 461126,
    "start_time": "2022-10-25T13:24:31.394Z"
   },
   {
    "duration": 2573,
    "start_time": "2022-10-27T09:21:41.197Z"
   },
   {
    "duration": 248,
    "start_time": "2022-10-27T09:21:43.774Z"
   },
   {
    "duration": 3,
    "start_time": "2022-10-27T09:21:44.024Z"
   },
   {
    "duration": 6,
    "start_time": "2022-10-27T09:21:44.029Z"
   },
   {
    "duration": 46,
    "start_time": "2022-10-27T09:21:44.038Z"
   },
   {
    "duration": 5,
    "start_time": "2022-10-27T09:21:44.086Z"
   },
   {
    "duration": 17,
    "start_time": "2022-10-27T09:21:44.092Z"
   },
   {
    "duration": 10,
    "start_time": "2022-10-27T09:21:44.111Z"
   },
   {
    "duration": 335,
    "start_time": "2022-10-27T09:21:44.122Z"
   },
   {
    "duration": 326,
    "start_time": "2022-10-27T09:21:44.458Z"
   },
   {
    "duration": 118,
    "start_time": "2022-10-27T09:21:44.786Z"
   },
   {
    "duration": 369,
    "start_time": "2022-10-27T09:21:44.906Z"
   },
   {
    "duration": 19,
    "start_time": "2022-10-27T09:21:45.277Z"
   },
   {
    "duration": 398,
    "start_time": "2022-10-27T09:21:45.300Z"
   },
   {
    "duration": 5,
    "start_time": "2022-10-27T09:21:45.701Z"
   },
   {
    "duration": 322,
    "start_time": "2022-10-27T09:21:45.708Z"
   },
   {
    "duration": 27,
    "start_time": "2022-10-27T09:21:46.032Z"
   },
   {
    "duration": 81,
    "start_time": "2022-10-27T09:21:46.061Z"
   },
   {
    "duration": 13,
    "start_time": "2022-10-27T09:21:46.144Z"
   },
   {
    "duration": 4738,
    "start_time": "2022-10-27T09:21:46.160Z"
   },
   {
    "duration": 36,
    "start_time": "2022-10-27T09:21:50.955Z"
   },
   {
    "duration": 31,
    "start_time": "2022-10-27T09:21:50.993Z"
   },
   {
    "duration": 68,
    "start_time": "2022-10-27T09:21:51.026Z"
   },
   {
    "duration": 49,
    "start_time": "2022-10-27T09:21:51.096Z"
   },
   {
    "duration": 16,
    "start_time": "2022-10-27T09:21:51.153Z"
   },
   {
    "duration": 2634,
    "start_time": "2022-10-27T09:21:51.171Z"
   },
   {
    "duration": 23,
    "start_time": "2022-10-27T09:21:53.807Z"
   },
   {
    "duration": 23,
    "start_time": "2022-10-27T09:21:53.832Z"
   },
   {
    "duration": 22,
    "start_time": "2022-10-27T09:21:53.857Z"
   },
   {
    "duration": 22,
    "start_time": "2022-10-27T09:21:53.882Z"
   },
   {
    "duration": 19,
    "start_time": "2022-10-27T09:21:53.907Z"
   },
   {
    "duration": 310,
    "start_time": "2022-10-27T09:21:53.929Z"
   },
   {
    "duration": 31,
    "start_time": "2022-10-27T09:21:54.241Z"
   },
   {
    "duration": 4,
    "start_time": "2022-10-27T09:21:54.275Z"
   },
   {
    "duration": 432,
    "start_time": "2022-10-27T09:21:54.282Z"
   },
   {
    "duration": 55,
    "start_time": "2022-10-27T09:21:54.716Z"
   },
   {
    "duration": 31,
    "start_time": "2022-10-27T09:21:54.773Z"
   },
   {
    "duration": 11,
    "start_time": "2022-10-27T09:21:54.806Z"
   },
   {
    "duration": 55,
    "start_time": "2022-10-27T09:21:54.819Z"
   },
   {
    "duration": 521,
    "start_time": "2022-10-27T09:21:54.876Z"
   },
   {
    "duration": 190,
    "start_time": "2022-10-27T09:21:55.401Z"
   },
   {
    "duration": 32,
    "start_time": "2022-10-27T09:21:55.594Z"
   },
   {
    "duration": 29,
    "start_time": "2022-10-27T09:21:58.071Z"
   },
   {
    "duration": 12,
    "start_time": "2022-10-27T09:22:01.482Z"
   },
   {
    "duration": 2800,
    "start_time": "2022-10-27T09:22:02.264Z"
   },
   {
    "duration": 88,
    "start_time": "2022-10-27T09:22:05.067Z"
   },
   {
    "duration": 5,
    "start_time": "2022-10-27T09:24:02.169Z"
   },
   {
    "duration": 5189,
    "start_time": "2022-10-27T09:24:28.776Z"
   },
   {
    "duration": 2025,
    "start_time": "2022-10-27T09:48:00.291Z"
   },
   {
    "duration": 701,
    "start_time": "2022-10-27T09:48:02.318Z"
   },
   {
    "duration": 3,
    "start_time": "2022-10-27T09:48:03.020Z"
   },
   {
    "duration": 13,
    "start_time": "2022-10-27T09:48:03.025Z"
   },
   {
    "duration": 37,
    "start_time": "2022-10-27T09:48:03.040Z"
   },
   {
    "duration": 5,
    "start_time": "2022-10-27T09:48:03.078Z"
   },
   {
    "duration": 16,
    "start_time": "2022-10-27T09:48:03.084Z"
   },
   {
    "duration": 8,
    "start_time": "2022-10-27T09:48:03.102Z"
   },
   {
    "duration": 255,
    "start_time": "2022-10-27T09:48:03.122Z"
   },
   {
    "duration": 219,
    "start_time": "2022-10-27T09:48:03.380Z"
   },
   {
    "duration": 92,
    "start_time": "2022-10-27T09:48:03.601Z"
   },
   {
    "duration": 290,
    "start_time": "2022-10-27T09:48:03.695Z"
   },
   {
    "duration": 16,
    "start_time": "2022-10-27T09:48:03.987Z"
   },
   {
    "duration": 306,
    "start_time": "2022-10-27T09:48:04.005Z"
   },
   {
    "duration": 10,
    "start_time": "2022-10-27T09:48:04.312Z"
   },
   {
    "duration": 254,
    "start_time": "2022-10-27T09:48:04.323Z"
   },
   {
    "duration": 7,
    "start_time": "2022-10-27T09:48:04.579Z"
   },
   {
    "duration": 65,
    "start_time": "2022-10-27T09:48:04.588Z"
   },
   {
    "duration": 4,
    "start_time": "2022-10-27T09:48:04.655Z"
   },
   {
    "duration": 3863,
    "start_time": "2022-10-27T09:48:04.660Z"
   },
   {
    "duration": 30,
    "start_time": "2022-10-27T09:48:08.525Z"
   },
   {
    "duration": 3,
    "start_time": "2022-10-27T09:48:08.557Z"
   },
   {
    "duration": 23,
    "start_time": "2022-10-27T09:48:08.562Z"
   },
   {
    "duration": 61,
    "start_time": "2022-10-27T09:48:08.587Z"
   },
   {
    "duration": 3,
    "start_time": "2022-10-27T09:48:08.650Z"
   },
   {
    "duration": 2140,
    "start_time": "2022-10-27T09:48:08.655Z"
   },
   {
    "duration": 33,
    "start_time": "2022-10-27T09:48:10.797Z"
   },
   {
    "duration": 3,
    "start_time": "2022-10-27T09:48:10.833Z"
   },
   {
    "duration": 17,
    "start_time": "2022-10-27T09:48:10.837Z"
   },
   {
    "duration": 28,
    "start_time": "2022-10-27T09:48:10.856Z"
   },
   {
    "duration": 4,
    "start_time": "2022-10-27T09:48:10.886Z"
   },
   {
    "duration": 232,
    "start_time": "2022-10-27T09:48:10.891Z"
   },
   {
    "duration": 20,
    "start_time": "2022-10-27T09:48:11.124Z"
   },
   {
    "duration": 4,
    "start_time": "2022-10-27T09:48:11.145Z"
   },
   {
    "duration": 335,
    "start_time": "2022-10-27T09:48:11.150Z"
   },
   {
    "duration": 35,
    "start_time": "2022-10-27T09:48:11.486Z"
   },
   {
    "duration": 23,
    "start_time": "2022-10-27T09:48:11.523Z"
   },
   {
    "duration": 10,
    "start_time": "2022-10-27T09:48:11.548Z"
   },
   {
    "duration": 24,
    "start_time": "2022-10-27T09:48:11.560Z"
   },
   {
    "duration": 484,
    "start_time": "2022-10-27T09:48:11.586Z"
   },
   {
    "duration": 204,
    "start_time": "2022-10-27T09:48:12.072Z"
   },
   {
    "duration": 24,
    "start_time": "2022-10-27T09:48:12.278Z"
   },
   {
    "duration": 34,
    "start_time": "2022-10-27T09:48:12.303Z"
   },
   {
    "duration": 9,
    "start_time": "2022-10-27T09:48:12.339Z"
   },
   {
    "duration": 687,
    "start_time": "2022-10-27T09:48:12.350Z"
   },
   {
    "duration": 6,
    "start_time": "2022-10-27T09:48:13.123Z"
   },
   {
    "duration": 1097,
    "start_time": "2022-10-27T09:48:13.130Z"
   },
   {
    "duration": 86,
    "start_time": "2022-10-27T09:48:14.236Z"
   },
   {
    "duration": 739,
    "start_time": "2022-10-27T09:48:14.324Z"
   },
   {
    "duration": 4455,
    "start_time": "2022-10-27T09:48:15.064Z"
   },
   {
    "duration": 319235,
    "start_time": "2022-10-27T09:48:19.520Z"
   },
   {
    "duration": 406137,
    "start_time": "2022-10-27T09:53:38.757Z"
   },
   {
    "duration": 955922,
    "start_time": "2022-10-27T10:00:24.896Z"
   },
   {
    "duration": 10733,
    "start_time": "2022-10-27T10:16:20.820Z"
   },
   {
    "duration": 5,
    "start_time": "2022-10-27T10:16:31.555Z"
   },
   {
    "duration": 247,
    "start_time": "2022-10-27T10:16:31.562Z"
   },
   {
    "duration": 171,
    "start_time": "2022-10-27T10:16:31.811Z"
   },
   {
    "duration": 170,
    "start_time": "2022-10-27T10:16:31.984Z"
   },
   {
    "duration": 165,
    "start_time": "2022-10-27T10:16:32.156Z"
   }
  ],
  "kernelspec": {
   "display_name": "Python 3 (ipykernel)",
   "language": "python",
   "name": "python3"
  },
  "language_info": {
   "codemirror_mode": {
    "name": "ipython",
    "version": 3
   },
   "file_extension": ".py",
   "mimetype": "text/x-python",
   "name": "python",
   "nbconvert_exporter": "python",
   "pygments_lexer": "ipython3",
   "version": "3.9.7"
  },
  "toc": {
   "base_numbering": 1,
   "nav_menu": {},
   "number_sections": true,
   "sideBar": true,
   "skip_h1_title": true,
   "title_cell": "Table of Contents",
   "title_sidebar": "Contents",
   "toc_cell": false,
   "toc_position": {},
   "toc_section_display": true,
   "toc_window_display": false
  }
 },
 "nbformat": 4,
 "nbformat_minor": 5
}
